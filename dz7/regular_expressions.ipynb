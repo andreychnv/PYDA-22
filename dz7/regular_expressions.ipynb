{
 "cells": [
  {
   "cell_type": "code",
   "execution_count": 1,
   "id": "25e2b37f",
   "metadata": {},
   "outputs": [],
   "source": [
    "import re"
   ]
  },
  {
   "cell_type": "markdown",
   "id": "60796f8a",
   "metadata": {},
   "source": [
    "### Задание 1\n",
    "Напишите функцию, которая принимает на вход строку и проверяет является ли она валидным транспортным номером (1 буква, 3 цифры, 2 буквы, 2-3 цифры). Обратите внимание, что не все буквы кириллического алфавита используются в транспортных номерах.\n",
    "\n",
    "Если номер валиден, то функция должна возвращать отдельно номер и регион.\n",
    "\n",
    "Примеры работы программы:\n",
    "\n",
    "car_id = 'А222BС96’\n",
    "Результат: Номер А222BС валиден. Регион: 96\n",
    "\n",
    "car_id = 'АБ22ВВ193’\n",
    "Результат: Номер не валиден"
   ]
  },
  {
   "cell_type": "code",
   "execution_count": 81,
   "id": "b8e481c9",
   "metadata": {},
   "outputs": [
    {
     "name": "stdout",
     "output_type": "stream",
     "text": [
      "Номер K528MР валиден. Регион: 186\n"
     ]
    }
   ],
   "source": [
    "def check_auto_number(number_string):\n",
    "    valid_number = re.fullmatch(r'[ABCEHKMOPTXY|АВСЕНКМОРТХУ]{1}\\d{3}[ABCEHKMOPTXY|АВСЕНКМОРТХУ]{2}[17]?\\d{2}', number_string.upper())\n",
    "    if valid_number:\n",
    "        part1, part2 = re.findall(r'(\\w{6}|\\d{2}$|\\d{3}$)', valid_number.string)\n",
    "        print(f'Номер {part1} валиден. Регион: {part2}') \n",
    "    else:\n",
    "        print('Номер не валиден')\n",
    "check_auto_number('K528mР186')"
   ]
  },
  {
   "cell_type": "markdown",
   "id": "7502da15",
   "metadata": {},
   "source": [
    "### Задание 2\n",
    "Напишите функцию, которая будет удалять все последовательные повторы слов из заданной строки при помощи регулярных выражений.\n",
    "\n",
    "Пример работы программы:\n",
    "\n",
    "some_string = ‘Напишите функцию функцию, которая будет будет будет будет удалять все все все все последовательные повторы слов из из из из заданной строки строки при помощи регулярных выражений’\n",
    "\n",
    "Результат: Напишите функцию, которая будет удалять все последовательные повторы слов из заданной строки при помощи регулярных выражений."
   ]
  },
  {
   "cell_type": "code",
   "execution_count": 80,
   "id": "41ee7503",
   "metadata": {},
   "outputs": [
    {
     "data": {
      "text/plain": [
       "'Напишите функцию, которая будет или не будет удалять все а может и не все последовательные повторы слов из заданной строки при помощи регулярных выражений'"
      ]
     },
     "execution_count": 80,
     "metadata": {},
     "output_type": "execute_result"
    }
   ],
   "source": [
    "def remove_duplicate_words(source):\n",
    "    return re.sub(r'(\\w+)(\\W(\\1))+',r'\\1', source)\n",
    "remove_duplicate_words('Напишите функцию функцию, которая будет будет или не будет будет будет удалять все все все а может и не все все последовательные повторы слов из из из из заданной строки строки при помощи регулярных выражений')"
   ]
  },
  {
   "cell_type": "markdown",
   "id": "5e93e6c7",
   "metadata": {},
   "source": [
    "### Задание 3\n",
    "Напишите функцию, которая будет возвращать акроним по переданной в нее строке со словами.\n",
    "\n",
    "Примеры работы программы:\n",
    "\n",
    "some_words = 'Информационные технологии’\n",
    "Результат: ИТ\n",
    "\n",
    "some_words = 'Near Field Communication’\n",
    "Результат: NFC"
   ]
  },
  {
   "cell_type": "code",
   "execution_count": 152,
   "id": "609e712c",
   "metadata": {},
   "outputs": [
    {
     "data": {
      "text/plain": [
       "'NF C'"
      ]
     },
     "execution_count": 152,
     "metadata": {},
     "output_type": "execute_result"
    }
   ],
   "source": [
    "def acronym(source):\n",
    "    return re.sub(r'(\\w)\\w+(\\s|\\S)', r'\\1', source)\n",
    "acronym('Near Field, Communication')"
   ]
  },
  {
   "cell_type": "markdown",
   "id": "25d7a06f",
   "metadata": {},
   "source": [
    "### Задание 4\n",
    "Напишите функцию, которая будет принимать на вход список email-адресов и выводить их распределение по доменным зонам.\n",
    "\n",
    "Пример работы программы:\n",
    "\n",
    "emails = [‘test@gmail.com, xyz@test.in, test@ya.ru, xyz@mail.ru, xyz@ya.ru’, xyz@gmail.com]\n",
    "\n",
    "Результат:\n",
    "\n",
    "gmail.com: 2\n",
    "test.in: 1\n",
    "ya.ru: 2\n",
    "mail.ru: 1"
   ]
  },
  {
   "cell_type": "code",
   "execution_count": null,
   "id": "87805883",
   "metadata": {},
   "outputs": [],
   "source": [
    "def domains_count(emails):\n",
    "    "
   ]
  },
  {
   "cell_type": "markdown",
   "id": "0f113126",
   "metadata": {},
   "source": [
    "### Задание 5 (необязательное)\n",
    "\n",
    "Напишите функцию, которая будет подсчитывать сколько слов начинается на гласные, а сколько на согласные буквы в тексте (текст может быть написан как с использованием букв кириллицы, так и латиницы).\n",
    "\n",
    "Пример работы программы:\n",
    "\n",
    "some_text = ‘Эталонной реализацией Python является интерпретатор CPython, поддерживающий большинство активно используемых платформ. Он распространяется под свободной лицензией Python Software Foundation License, позволяющей использовать его без ограничений в любых приложениях, включая проприетарные.’\n",
    "\n",
    "Результат:\n",
    "\n",
    "Слов на гласные буквы: 9\n",
    "Слов на согласные буквы: 21"
   ]
  },
  {
   "cell_type": "code",
   "execution_count": null,
   "id": "887a36d1",
   "metadata": {},
   "outputs": [],
   "source": []
  },
  {
   "cell_type": "markdown",
   "id": "a25c9adf",
   "metadata": {},
   "source": [
    "### Задание 6 (необязательное)\n",
    "\n",
    "Напишите функцию, которая будет проверять номер сотового телефона на валидность, если он валиден, то переводить его в формат:\n",
    "+7-xxx-xxx-xx-xx\n",
    "Постарайтесь предусмотреть как можно больше адекватных форматов изначального ввода номера. Примеры работы программы:\n",
    "\n",
    "phone = '+7 955 555-55-55’\n",
    "Результат: +7-950-555-55-55\n",
    "\n",
    "phone = '8(955)555-55-55’\n",
    "Результат: +7-950-555-55-55\n",
    "\n",
    "phone = '+7 955 555 55 55’\n",
    "Результат: +7-950-555-55-55\n",
    "\n",
    "phone = '7(955) 555-55-55’\n",
    "Результат: +7-950-555-55-55\n",
    "\n",
    "phone = '423-555-55-5555’\n",
    "Результат: Номер не валиден\n",
    "\n",
    "phone = '123-456-789’\n",
    "Результат: Номер не валиден"
   ]
  },
  {
   "cell_type": "code",
   "execution_count": null,
   "id": "0fa18f82",
   "metadata": {},
   "outputs": [],
   "source": []
  }
 ],
 "metadata": {
  "kernelspec": {
   "display_name": "Python 3",
   "language": "python",
   "name": "python3"
  },
  "language_info": {
   "codemirror_mode": {
    "name": "ipython",
    "version": 3
   },
   "file_extension": ".py",
   "mimetype": "text/x-python",
   "name": "python",
   "nbconvert_exporter": "python",
   "pygments_lexer": "ipython3",
   "version": "3.8.0"
  }
 },
 "nbformat": 4,
 "nbformat_minor": 5
}
