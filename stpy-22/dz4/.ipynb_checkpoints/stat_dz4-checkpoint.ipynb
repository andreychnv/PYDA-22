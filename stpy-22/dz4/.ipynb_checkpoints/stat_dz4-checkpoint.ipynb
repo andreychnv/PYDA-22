{
 "cells": [
  {
   "cell_type": "markdown",
   "id": "abf449be",
   "metadata": {},
   "source": [
    "## Домашнее задание к лекции «Корреляция и корреляционный анализ»\n",
    "\n",
    "Задание также доступно здесь http://prntscr.com/ujddtw\n",
    "\n",
    "Возьмите датасет Mortality and Water Hardness**\n",
    "www.kaggle.com...r-hardness\n",
    "\n",
    "В этом датасете содержатся данные по средней годовой смертности на\n",
    "100000 населения и концентрации кальция в питьевой воде для 61\n",
    "большого города в Англии и Уэльсе. Города дополнительно поделены на\n",
    "северные и южные."
   ]
  },
  {
   "cell_type": "code",
   "execution_count": 1,
   "id": "e3aa6224",
   "metadata": {},
   "outputs": [],
   "source": [
    "import pandas as pd\n",
    "from sklearn.linear_model import LinearRegression\n",
    "from sklearn.model_selection import train_test_split\n",
    "import matplotlib.pyplot as plt"
   ]
  },
  {
   "cell_type": "code",
   "execution_count": 2,
   "id": "5e9663d7",
   "metadata": {},
   "outputs": [],
   "source": [
    "df = pd.read_csv('water.csv', index_col=0)"
   ]
  },
  {
   "cell_type": "markdown",
   "id": "dbd5d7a6",
   "metadata": {},
   "source": [
    "### Задание 1.\n",
    "Ответить на вопрос: есть ли связь между жёсткостью воды и средней годовой смертностью?\n",
    "\n",
    "- Построить точечный график\n",
    "- Рассчитать коэффициенты корреляции Пирсона и Спирмена\n",
    "- Построить модель линейной регрессии\n",
    "- Рассчитать коэффициент детерминации\n",
    "- Вывести график остатков"
   ]
  },
  {
   "cell_type": "code",
   "execution_count": 3,
   "id": "5f3997e7",
   "metadata": {},
   "outputs": [
    {
     "data": {
      "text/plain": [
       "<AxesSubplot:title={'center':'Поиск корреляции между жесткостью воды и смертностью'}, xlabel='hardness', ylabel='mortality'>"
      ]
     },
     "execution_count": 3,
     "metadata": {},
     "output_type": "execute_result"
    },
    {
     "data": {
      "image/png": "[encoded data removed]",
      "text/plain": [
       "<Figure size 432x288 with 1 Axes>"
      ]
     },
     "metadata": {
      "needs_background": "light"
     },
     "output_type": "display_data"
    }
   ],
   "source": [
    "df.plot(kind='scatter', x='hardness', y='mortality', title='Поиск корреляции между жесткостью воды и смертностью')"
   ]
  },
  {
   "cell_type": "code",
   "execution_count": 4,
   "id": "90ba2eb3",
   "metadata": {},
   "outputs": [
    {
     "name": "stdout",
     "output_type": "stream",
     "text": [
      "Коэффициент корреляции Пирсона:             hardness  mortality\n",
      "hardness   1.000000  -0.654849\n",
      "mortality -0.654849   1.000000\n",
      "Коэффициент корреляции Спирмена:            hardness  mortality\n",
      "hardness   1.000000  -0.631665\n",
      "mortality -0.631665   1.000000\n"
     ]
    }
   ],
   "source": [
    "k_Pirson = df[['hardness', 'mortality']].corr()\n",
    "k_Spearmen= df[['hardness', 'mortality']].corr(method='spearman')\n",
    "\n",
    "print('Коэффициент корреляции Пирсона: ', k_Pirson)\n",
    "print('Коэффициент корреляции Спирмена:', k_Spearmen)"
   ]
  },
  {
   "cell_type": "code",
   "execution_count": 5,
   "id": "5a6d627d",
   "metadata": {},
   "outputs": [
    {
     "name": "stdout",
     "output_type": "stream",
     "text": [
      "y= -3.187 x + 1675.115\n"
     ]
    },
    {
     "data": {
      "text/plain": [
       "[<matplotlib.lines.Line2D at 0x2bfc555f520>]"
      ]
     },
     "execution_count": 5,
     "metadata": {},
     "output_type": "execute_result"
    },
    {
     "data": {
      "image/png": "[encoded data removed]",
      "text/plain": [
       "<Figure size 432x288 with 1 Axes>"
      ]
     },
     "metadata": {
      "needs_background": "light"
     },
     "output_type": "display_data"
    }
   ],
   "source": [
    "X = df[['hardness']]\n",
    "y = df['mortality']\n",
    "X_train, X_test, y_train, y_test = train_test_split(X, y, test_size=0.30, random_state=6383) \n",
    "model = LinearRegression()\n",
    "model.fit(X_train, y_train)\n",
    "print( f'y= {round(model.coef_[0],3) } x + {round(model.intercept_,3)}')\n",
    "y_pred = model.predict(X_test)\n",
    "plt.scatter(X_test, y_test)\n",
    "plt.plot(X_test, y_pred, c='r')"
   ]
  },
  {
   "cell_type": "code",
   "execution_count": 6,
   "id": "f9894648",
   "metadata": {},
   "outputs": [
    {
     "name": "stdout",
     "output_type": "stream",
     "text": [
      "Коэффициент детерминации: 0.7570280355687193\n"
     ]
    }
   ],
   "source": [
    "print('Коэффициент детерминации:', model.score(X_test, y_test))"
   ]
  },
  {
   "cell_type": "markdown",
   "id": "6f59b409",
   "metadata": {},
   "source": [
    "Судя по результатам, некоторая взаимосвязь присутствует, возможно, мягкая вода пагубно воздействует на организм (вымывает соли)\n",
    "или способствует размножению бактерий, что, в свою очередь, может являться причинами каких-то заболеваний, \n",
    "иногда приводящих к смертельным исходам.\n",
    "Хотя не исключено совпадение или влияние на показатели какого-то стороннего фактора, например, обычно, \n",
    "в горных районах, жители которых отличаются здоровьем и долголетием, вода имеет больше соляных примесей. "
   ]
  },
  {
   "cell_type": "markdown",
   "id": "623fdee3",
   "metadata": {},
   "source": [
    "### Доработка домашнего задания. Построить график остатков"
   ]
  },
  {
   "cell_type": "code",
   "execution_count": 7,
   "id": "7c7f17ec",
   "metadata": {},
   "outputs": [
    {
     "data": {
      "text/plain": [
       "[<matplotlib.lines.Line2D at 0x2bfc55f6dc0>]"
      ]
     },
     "execution_count": 7,
     "metadata": {},
     "output_type": "execute_result"
    },
    {
     "data": {
      "image/png": "[encoded data removed]",
      "text/plain": [
       "<Figure size 432x288 with 1 Axes>"
      ]
     },
     "metadata": {
      "needs_background": "light"
     },
     "output_type": "display_data"
    }
   ],
   "source": [
    "plt.plot([y_pred,y_pred], [y_pred-y_pred,y_pred-y_test], c='r')\n",
    "plt.scatter(y_pred, y_pred-y_test, c='b')\n",
    "plt.plot(y_pred, y_pred-y_pred, c='g')"
   ]
  },
  {
   "cell_type": "code",
   "execution_count": 8,
   "id": "15d89d24",
   "metadata": {},
   "outputs": [
    {
     "data": {
      "text/plain": [
       "[<matplotlib.lines.Line2D at 0x2bfc56a9340>]"
      ]
     },
     "execution_count": 8,
     "metadata": {},
     "output_type": "execute_result"
    },
    {
     "data": {
      "image/png": "[encoded data removed]",
      "text/plain": [
       "<Figure size 432x288 with 1 Axes>"
      ]
     },
     "metadata": {
      "needs_background": "light"
     },
     "output_type": "display_data"
    }
   ],
   "source": [
    "plt.plot([y_pred-y_test,y_pred-y_pred], [y_pred,y_pred], c='r')\n",
    "plt.scatter(y_pred-y_test, y_pred, c='b')\n",
    "plt.plot(y_pred-y_pred, y_pred, c='g')"
   ]
  },
  {
   "cell_type": "markdown",
   "id": "85e1a881",
   "metadata": {},
   "source": [
    "на такой небольшой и неравномерной выборке сложно определить, есть ли закономерность в ошибках или нет. Если есть, то она неочевидна"
   ]
  },
  {
   "cell_type": "markdown",
   "id": "3a01c183",
   "metadata": {},
   "source": [
    "### Задание 2.\n",
    "Ответить на вопрос: сохраняется ли аналогичная зависимость для северных и южных городов по отдельности?\n",
    "\n",
    "- Разделить данные на 2 группы\n",
    "- Повторить аналогичные шаги из пункта 1 для каждой группы по отдельности"
   ]
  },
  {
   "cell_type": "code",
   "execution_count": 9,
   "id": "afbaca1b",
   "metadata": {},
   "outputs": [],
   "source": [
    "north = df[df['location']=='North']\n",
    "south = df[df['location']=='South']"
   ]
  },
  {
   "cell_type": "code",
   "execution_count": 10,
   "id": "0c4bce99",
   "metadata": {},
   "outputs": [
    {
     "data": {
      "text/plain": [
       "<AxesSubplot:title={'center':'Поиск корреляции между жесткостью воды и смертностью'}, xlabel='hardness', ylabel='mortality'>"
      ]
     },
     "execution_count": 10,
     "metadata": {},
     "output_type": "execute_result"
    },
    {
     "data": {
      "image/png": "[encoded data removed]",
      "text/plain": [
       "<Figure size 432x288 with 1 Axes>"
      ]
     },
     "metadata": {
      "needs_background": "light"
     },
     "output_type": "display_data"
    }
   ],
   "source": [
    "north.plot(kind='scatter', x='hardness', y='mortality', title='Поиск корреляции между жесткостью воды и смертностью')"
   ]
  },
  {
   "cell_type": "code",
   "execution_count": 11,
   "id": "8816f9d5",
   "metadata": {},
   "outputs": [
    {
     "name": "stdout",
     "output_type": "stream",
     "text": [
      "Коэффициент корреляции Пирсона:             hardness  mortality\n",
      "hardness   1.000000  -0.368598\n",
      "mortality -0.368598   1.000000\n",
      "Коэффициент корреляции Спирмена:            hardness  mortality\n",
      "hardness   1.000000  -0.404208\n",
      "mortality -0.404208   1.000000\n"
     ]
    }
   ],
   "source": [
    "k_Pirson = north[['hardness', 'mortality']].corr()\n",
    "k_Spearmen= north[['hardness', 'mortality']].corr(method='spearman')\n",
    "\n",
    "print('Коэффициент корреляции Пирсона: ', k_Pirson)\n",
    "print('Коэффициент корреляции Спирмена:', k_Spearmen)"
   ]
  },
  {
   "cell_type": "code",
   "execution_count": 12,
   "id": "04885bf8",
   "metadata": {},
   "outputs": [
    {
     "name": "stdout",
     "output_type": "stream",
     "text": [
      "y= -1.612 x + 1683.888\n"
     ]
    },
    {
     "data": {
      "text/plain": [
       "[<matplotlib.lines.Line2D at 0x2bfc5785880>]"
      ]
     },
     "execution_count": 12,
     "metadata": {},
     "output_type": "execute_result"
    },
    {
     "data": {
      "image/png": "[encoded data removed]",
      "text/plain": [
       "<Figure size 432x288 with 1 Axes>"
      ]
     },
     "metadata": {
      "needs_background": "light"
     },
     "output_type": "display_data"
    }
   ],
   "source": [
    "X = north[['hardness']]\n",
    "y = north['mortality']\n",
    "nX_train, nX_test, ny_train, ny_test = train_test_split(X, y, test_size=0.30, random_state=7174) \n",
    "model = LinearRegression()\n",
    "model.fit(nX_train, ny_train)\n",
    "print( f'y= {round(model.coef_[0],3) } x + {round(model.intercept_,3)}')\n",
    "ny_pred = model.predict(nX_test)\n",
    "plt.scatter(nX_test, ny_test)\n",
    "plt.plot(nX_test, ny_pred, c='r')"
   ]
  },
  {
   "cell_type": "code",
   "execution_count": 13,
   "id": "3c32af59",
   "metadata": {},
   "outputs": [
    {
     "name": "stdout",
     "output_type": "stream",
     "text": [
      "Коэффициент детерминации: 0.5033286961083134\n"
     ]
    }
   ],
   "source": [
    "print('Коэффициент детерминации:', model.score(nX_test, ny_test))"
   ]
  },
  {
   "cell_type": "code",
   "execution_count": 14,
   "id": "ba7494cf",
   "metadata": {},
   "outputs": [
    {
     "data": {
      "text/plain": [
       "<AxesSubplot:title={'center':'Поиск корреляции между жесткостью воды и смертностью'}, xlabel='hardness', ylabel='mortality'>"
      ]
     },
     "execution_count": 14,
     "metadata": {},
     "output_type": "execute_result"
    },
    {
     "data": {
      "image/png": "[encoded data removed]",
      "text/plain": [
       "<Figure size 432x288 with 1 Axes>"
      ]
     },
     "metadata": {
      "needs_background": "light"
     },
     "output_type": "display_data"
    }
   ],
   "source": [
    "south.plot(kind='scatter', x='hardness', y='mortality', title='Поиск корреляции между жесткостью воды и смертностью')"
   ]
  },
  {
   "cell_type": "code",
   "execution_count": 15,
   "id": "9c39316d",
   "metadata": {},
   "outputs": [
    {
     "name": "stdout",
     "output_type": "stream",
     "text": [
      "Коэффициент корреляции Пирсона:             hardness  mortality\n",
      "hardness   1.000000  -0.602153\n",
      "mortality -0.602153   1.000000\n",
      "Коэффициент корреляции Спирмена:            hardness  mortality\n",
      "hardness   1.000000  -0.595723\n",
      "mortality -0.595723   1.000000\n"
     ]
    }
   ],
   "source": [
    "k_Pirson = south[['hardness', 'mortality']].corr()\n",
    "k_Spearmen= south[['hardness', 'mortality']].corr(method='spearman')\n",
    "\n",
    "print('Коэффициент корреляции Пирсона: ', k_Pirson)\n",
    "print('Коэффициент корреляции Спирмена:', k_Spearmen)"
   ]
  },
  {
   "cell_type": "code",
   "execution_count": 16,
   "id": "633fb064",
   "metadata": {},
   "outputs": [
    {
     "name": "stdout",
     "output_type": "stream",
     "text": [
      "y= -2.016 x + 1521.369\n"
     ]
    },
    {
     "data": {
      "text/plain": [
       "[<matplotlib.lines.Line2D at 0x2bfc585a550>]"
      ]
     },
     "execution_count": 16,
     "metadata": {},
     "output_type": "execute_result"
    },
    {
     "data": {
      "image/png": "[encoded data removed]",
      "text/plain": [
       "<Figure size 432x288 with 1 Axes>"
      ]
     },
     "metadata": {
      "needs_background": "light"
     },
     "output_type": "display_data"
    }
   ],
   "source": [
    "X = south[['hardness']]\n",
    "y = south['mortality']\n",
    "sX_train, sX_test, sy_train, sy_test = train_test_split(X, y, test_size=0.30, random_state=9323) \n",
    "model = LinearRegression()\n",
    "model.fit(sX_train, sy_train)\n",
    "print( f'y= {round(model.coef_[0],3) } x + {round(model.intercept_,3)}')\n",
    "sy_pred = model.predict(sX_test)\n",
    "plt.scatter(sX_test, sy_test)\n",
    "plt.plot(sX_test, sy_pred, c='r')"
   ]
  },
  {
   "cell_type": "code",
   "execution_count": 17,
   "id": "3fb01903",
   "metadata": {},
   "outputs": [
    {
     "name": "stdout",
     "output_type": "stream",
     "text": [
      "Коэффициент детерминации: 0.1380571270762554\n"
     ]
    }
   ],
   "source": [
    "print('Коэффициент детерминации:', model.score(X_test, y_test))"
   ]
  },
  {
   "cell_type": "code",
   "execution_count": 18,
   "id": "0450f0a6",
   "metadata": {},
   "outputs": [
    {
     "data": {
      "text/plain": [
       "[<matplotlib.lines.Line2D at 0x2bfc58c9880>]"
      ]
     },
     "execution_count": 18,
     "metadata": {},
     "output_type": "execute_result"
    },
    {
     "data": {
      "image/png": "[encoded data removed]",
      "text/plain": [
       "<Figure size 432x288 with 1 Axes>"
      ]
     },
     "metadata": {
      "needs_background": "light"
     },
     "output_type": "display_data"
    }
   ],
   "source": [
    "plt.scatter(sX_test, sy_test, c='r')\n",
    "plt.plot(sX_test, sy_pred, c='r')\n",
    "plt.scatter(nX_test, ny_test, c='b')\n",
    "plt.plot(nX_test, ny_pred, c='b')"
   ]
  },
  {
   "cell_type": "markdown",
   "id": "2473155f",
   "metadata": {},
   "source": [
    "С разбиением на группы зависимость ослабевает.\n",
    "Возможно, это связано с уменьшением размера выборки."
   ]
  },
  {
   "cell_type": "markdown",
   "id": "a4db562d",
   "metadata": {},
   "source": [
    "### Доработка домашнего задания. Построить график остатков"
   ]
  },
  {
   "cell_type": "markdown",
   "id": "6e4f1fff",
   "metadata": {},
   "source": [
    "##### Север"
   ]
  },
  {
   "cell_type": "code",
   "execution_count": 19,
   "id": "5eb543da",
   "metadata": {},
   "outputs": [
    {
     "data": {
      "text/plain": [
       "[<matplotlib.lines.Line2D at 0x2bfc594d790>]"
      ]
     },
     "execution_count": 19,
     "metadata": {},
     "output_type": "execute_result"
    },
    {
     "data": {
      "image/png": "[encoded data removed]",
      "text/plain": [
       "<Figure size 432x288 with 1 Axes>"
      ]
     },
     "metadata": {
      "needs_background": "light"
     },
     "output_type": "display_data"
    }
   ],
   "source": [
    "plt.plot([ny_pred,ny_pred], [ny_pred-ny_pred,ny_pred-ny_test], c='r')\n",
    "plt.scatter(ny_pred, ny_pred-ny_test, c='b')\n",
    "plt.plot(ny_pred, ny_pred-ny_pred, c='b')"
   ]
  },
  {
   "cell_type": "markdown",
   "id": "dac23262",
   "metadata": {},
   "source": [
    "#### Юг"
   ]
  },
  {
   "cell_type": "code",
   "execution_count": 20,
   "id": "f1ffe971",
   "metadata": {},
   "outputs": [
    {
     "data": {
      "text/plain": [
       "[<matplotlib.lines.Line2D at 0x2bfc59cec10>]"
      ]
     },
     "execution_count": 20,
     "metadata": {},
     "output_type": "execute_result"
    },
    {
     "data": {
      "image/png": "[encoded data removed]",
      "text/plain": [
       "<Figure size 432x288 with 1 Axes>"
      ]
     },
     "metadata": {
      "needs_background": "light"
     },
     "output_type": "display_data"
    }
   ],
   "source": [
    "plt.plot([sy_pred,sy_pred], [sy_pred-sy_pred,sy_pred-sy_test], c='b')\n",
    "plt.scatter(sy_pred, sy_pred-sy_test, c='r')\n",
    "plt.plot(sy_pred, sy_pred-sy_pred, c='r')"
   ]
  },
  {
   "cell_type": "markdown",
   "id": "cbe864dd",
   "metadata": {},
   "source": [
    "## В первоначальном варианте решения, на которое были получены замечания, \n",
    "\n",
    "## я пытался изобразить остатки как показано в презентации,\n",
    "\n",
    "## однако терпения не хватило, вот что получилось сейчас\n",
    "\n"
   ]
  },
  {
   "cell_type": "code",
   "execution_count": 21,
   "id": "140ca1c3",
   "metadata": {},
   "outputs": [
    {
     "data": {
      "text/plain": [
       "[<matplotlib.lines.Line2D at 0x2bfc5a5caf0>]"
      ]
     },
     "execution_count": 21,
     "metadata": {},
     "output_type": "execute_result"
    },
    {
     "data": {
      "image/png": "[encoded data removed]",
      "text/plain": [
       "<Figure size 432x288 with 1 Axes>"
      ]
     },
     "metadata": {
      "needs_background": "light"
     },
     "output_type": "display_data"
    }
   ],
   "source": [
    "plt.plot([nX_test['hardness'], nX_test['hardness']], [ny_test, ny_pred], c='r')\n",
    "plt.scatter(nX_test, ny_test, c='b')\n",
    "plt.plot(nX_test, ny_pred, c='b')"
   ]
  },
  {
   "cell_type": "code",
   "execution_count": 22,
   "id": "106bd934",
   "metadata": {},
   "outputs": [
    {
     "data": {
      "text/plain": [
       "[<matplotlib.lines.Line2D at 0x2bfc5ae2640>]"
      ]
     },
     "execution_count": 22,
     "metadata": {},
     "output_type": "execute_result"
    },
    {
     "data": {
      "image/png": "[encoded data removed]",
      "text/plain": [
       "<Figure size 432x288 with 1 Axes>"
      ]
     },
     "metadata": {
      "needs_background": "light"
     },
     "output_type": "display_data"
    }
   ],
   "source": [
    "plt.plot([sX_test['hardness'], sX_test['hardness']], [sy_test, sy_pred], c='b')\n",
    "plt.scatter(sX_test, sy_test, c='r')\n",
    "plt.plot(sX_test, sy_pred, c='r')"
   ]
  },
  {
   "cell_type": "markdown",
   "id": "07bb4d27",
   "metadata": {},
   "source": [
    "#### для красоты не хватает размера выборки"
   ]
  }
 ],
 "metadata": {
  "kernelspec": {
   "display_name": "Python 3 (ipykernel)",
   "language": "python",
   "name": "python3"
  },
  "language_info": {
   "codemirror_mode": {
    "name": "ipython",
    "version": 3
   },
   "file_extension": ".py",
   "mimetype": "text/x-python",
   "name": "python",
   "nbconvert_exporter": "python",
   "pygments_lexer": "ipython3",
   "version": "3.9.6"
  }
 },
 "nbformat": 4,
 "nbformat_minor": 5
}
