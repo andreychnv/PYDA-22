{
 "cells": [
  {
   "cell_type": "markdown",
   "id": "a71e2173",
   "metadata": {},
   "source": [
    "### Задание 1. Загрузка данных\n",
    "Изучить представленный набор данных на основе описания его столбцов, загрузить его и оставить 8 столбцов для дальнейшего изучения: surgery?, Age, rectal temperature, pulse, respiratory rate, temperature of extremities, pain, outcome."
   ]
  },
  {
   "cell_type": "code",
   "execution_count": 1,
   "id": "460ae00d",
   "metadata": {},
   "outputs": [],
   "source": [
    "import pandas as pd\n",
    "from numpy import NaN"
   ]
  },
  {
   "cell_type": "code",
   "execution_count": 2,
   "id": "d71c9773",
   "metadata": {},
   "outputs": [],
   "source": [
    "df = pd.read_csv('horse_data.csv', \n",
    "                 names=['surgery?', 'Age', '3', 'rectal temperature', 'pulse', 'respiratory rate', 'temperature of extremities',\n",
    "                        '8', '9', '10', 'pain', '12', '13', '14', '15', '16','17','18', '19', '20', '21', '22', 'outcome', '24',\n",
    "                        '25', '26', '27', '28'], \n",
    "                 usecols=['surgery?', 'Age', 'rectal temperature', 'pulse', 'respiratory rate', 'temperature of extremities',\n",
    "                          'pain', 'outcome'])\n"
   ]
  },
  {
   "cell_type": "code",
   "execution_count": 3,
   "id": "cc7c9f1f",
   "metadata": {},
   "outputs": [
    {
     "data": {
      "text/html": [
       "<div>\n",
       "<style scoped>\n",
       "    .dataframe tbody tr th:only-of-type {\n",
       "        vertical-align: middle;\n",
       "    }\n",
       "\n",
       "    .dataframe tbody tr th {\n",
       "        vertical-align: top;\n",
       "    }\n",
       "\n",
       "    .dataframe thead th {\n",
       "        text-align: right;\n",
       "    }\n",
       "</style>\n",
       "<table border=\"1\" class=\"dataframe\">\n",
       "  <thead>\n",
       "    <tr style=\"text-align: right;\">\n",
       "      <th></th>\n",
       "      <th>surgery?</th>\n",
       "      <th>Age</th>\n",
       "      <th>rectal temperature</th>\n",
       "      <th>pulse</th>\n",
       "      <th>respiratory rate</th>\n",
       "      <th>temperature of extremities</th>\n",
       "      <th>pain</th>\n",
       "      <th>outcome</th>\n",
       "    </tr>\n",
       "  </thead>\n",
       "  <tbody>\n",
       "    <tr>\n",
       "      <th>0</th>\n",
       "      <td>2</td>\n",
       "      <td>1</td>\n",
       "      <td>38.50</td>\n",
       "      <td>66</td>\n",
       "      <td>28</td>\n",
       "      <td>3</td>\n",
       "      <td>5</td>\n",
       "      <td>2</td>\n",
       "    </tr>\n",
       "    <tr>\n",
       "      <th>1</th>\n",
       "      <td>1</td>\n",
       "      <td>1</td>\n",
       "      <td>39.2</td>\n",
       "      <td>88</td>\n",
       "      <td>20</td>\n",
       "      <td>?</td>\n",
       "      <td>3</td>\n",
       "      <td>3</td>\n",
       "    </tr>\n",
       "    <tr>\n",
       "      <th>2</th>\n",
       "      <td>2</td>\n",
       "      <td>1</td>\n",
       "      <td>38.30</td>\n",
       "      <td>40</td>\n",
       "      <td>24</td>\n",
       "      <td>1</td>\n",
       "      <td>3</td>\n",
       "      <td>1</td>\n",
       "    </tr>\n",
       "    <tr>\n",
       "      <th>3</th>\n",
       "      <td>1</td>\n",
       "      <td>9</td>\n",
       "      <td>39.10</td>\n",
       "      <td>164</td>\n",
       "      <td>84</td>\n",
       "      <td>4</td>\n",
       "      <td>2</td>\n",
       "      <td>2</td>\n",
       "    </tr>\n",
       "    <tr>\n",
       "      <th>4</th>\n",
       "      <td>2</td>\n",
       "      <td>1</td>\n",
       "      <td>37.30</td>\n",
       "      <td>104</td>\n",
       "      <td>35</td>\n",
       "      <td>?</td>\n",
       "      <td>?</td>\n",
       "      <td>2</td>\n",
       "    </tr>\n",
       "    <tr>\n",
       "      <th>...</th>\n",
       "      <td>...</td>\n",
       "      <td>...</td>\n",
       "      <td>...</td>\n",
       "      <td>...</td>\n",
       "      <td>...</td>\n",
       "      <td>...</td>\n",
       "      <td>...</td>\n",
       "      <td>...</td>\n",
       "    </tr>\n",
       "    <tr>\n",
       "      <th>295</th>\n",
       "      <td>1</td>\n",
       "      <td>1</td>\n",
       "      <td>?</td>\n",
       "      <td>120</td>\n",
       "      <td>70</td>\n",
       "      <td>4</td>\n",
       "      <td>2</td>\n",
       "      <td>3</td>\n",
       "    </tr>\n",
       "    <tr>\n",
       "      <th>296</th>\n",
       "      <td>2</td>\n",
       "      <td>1</td>\n",
       "      <td>37.20</td>\n",
       "      <td>72</td>\n",
       "      <td>24</td>\n",
       "      <td>3</td>\n",
       "      <td>4</td>\n",
       "      <td>3</td>\n",
       "    </tr>\n",
       "    <tr>\n",
       "      <th>297</th>\n",
       "      <td>1</td>\n",
       "      <td>1</td>\n",
       "      <td>37.50</td>\n",
       "      <td>72</td>\n",
       "      <td>30</td>\n",
       "      <td>4</td>\n",
       "      <td>4</td>\n",
       "      <td>2</td>\n",
       "    </tr>\n",
       "    <tr>\n",
       "      <th>298</th>\n",
       "      <td>1</td>\n",
       "      <td>1</td>\n",
       "      <td>36.50</td>\n",
       "      <td>100</td>\n",
       "      <td>24</td>\n",
       "      <td>3</td>\n",
       "      <td>3</td>\n",
       "      <td>1</td>\n",
       "    </tr>\n",
       "    <tr>\n",
       "      <th>299</th>\n",
       "      <td>1</td>\n",
       "      <td>1</td>\n",
       "      <td>37.2</td>\n",
       "      <td>40</td>\n",
       "      <td>20</td>\n",
       "      <td>?</td>\n",
       "      <td>?</td>\n",
       "      <td>3</td>\n",
       "    </tr>\n",
       "  </tbody>\n",
       "</table>\n",
       "<p>300 rows × 8 columns</p>\n",
       "</div>"
      ],
      "text/plain": [
       "    surgery?  Age rectal temperature pulse respiratory rate  \\\n",
       "0          2    1              38.50    66               28   \n",
       "1          1    1               39.2    88               20   \n",
       "2          2    1              38.30    40               24   \n",
       "3          1    9              39.10   164               84   \n",
       "4          2    1              37.30   104               35   \n",
       "..       ...  ...                ...   ...              ...   \n",
       "295        1    1                  ?   120               70   \n",
       "296        2    1              37.20    72               24   \n",
       "297        1    1              37.50    72               30   \n",
       "298        1    1              36.50   100               24   \n",
       "299        1    1               37.2    40               20   \n",
       "\n",
       "    temperature of extremities pain outcome  \n",
       "0                            3    5       2  \n",
       "1                            ?    3       3  \n",
       "2                            1    3       1  \n",
       "3                            4    2       2  \n",
       "4                            ?    ?       2  \n",
       "..                         ...  ...     ...  \n",
       "295                          4    2       3  \n",
       "296                          3    4       3  \n",
       "297                          4    4       2  \n",
       "298                          3    3       1  \n",
       "299                          ?    ?       3  \n",
       "\n",
       "[300 rows x 8 columns]"
      ]
     },
     "execution_count": 3,
     "metadata": {},
     "output_type": "execute_result"
    }
   ],
   "source": [
    "df"
   ]
  },
  {
   "cell_type": "code",
   "execution_count": 4,
   "id": "300eb8d6",
   "metadata": {},
   "outputs": [],
   "source": [
    "df = df.replace('?', 1111)   # заменим пропуски \"?\" на 1111, чтобы переопределение типов не вызвало ошибку\n",
    "                             # преварительно убедившись, что ? - это и только это является пропуском\n",
    "df = df.astype({'surgery?': int,\n",
    "                'Age': int,\n",
    "                'rectal temperature': float,\n",
    "                'pulse': int,\n",
    "                'respiratory rate': int,\n",
    "                'temperature of extremities': float,\n",
    "                'pain': int,\n",
    "                'outcome': int\n",
    "               })\n",
    "\n",
    "df = df.replace(1111, NaN)   # заменим пропуски \"1111\" на NaN для удобства работы\n",
    "                            # по непонятной причине после replace(1111, NaN)\n",
    "                            # все ранее целочисленные столбцы стали float"
   ]
  },
  {
   "cell_type": "markdown",
   "id": "813f3604",
   "metadata": {},
   "source": [
    "### Задание 2. Первичное изучение данных\n",
    "Проанализировать значения по столбцам, рассчитать базовые статистики, найти выбросы."
   ]
  },
  {
   "cell_type": "code",
   "execution_count": 5,
   "id": "f12a7727",
   "metadata": {},
   "outputs": [
    {
     "name": "stdout",
     "output_type": "stream",
     "text": [
      "surgery?\n",
      "1.0    180\n",
      "2.0    119\n",
      "Name: surgery?, dtype: int64\n",
      "Age\n",
      "1    276\n",
      "9     24\n",
      "Name: Age, dtype: int64\n",
      "temperature of extremities\n",
      "1.0     78\n",
      "2.0     30\n",
      "3.0    109\n",
      "4.0     27\n",
      "Name: temperature of extremities, dtype: int64\n",
      "pain\n",
      "1.0    38\n",
      "2.0    59\n",
      "3.0    67\n",
      "4.0    39\n",
      "5.0    42\n",
      "Name: pain, dtype: int64\n",
      "outcome\n",
      "1.0    178\n",
      "2.0     77\n",
      "3.0     44\n",
      "Name: outcome, dtype: int64\n"
     ]
    }
   ],
   "source": [
    "categories = ['surgery?', 'Age', 'temperature of extremities', 'pain', 'outcome']\n",
    "# проверим, все ли категориальные столбцы содержат допустимые значения\n",
    "for col in categories:\n",
    "    print(df[col].groupby(df[col]).count())"
   ]
  },
  {
   "cell_type": "code",
   "execution_count": 6,
   "id": "d3ff1a5c",
   "metadata": {},
   "outputs": [],
   "source": [
    "# выброс в столбце возраст, скорее всего это опечатка, допустимый список значений [1, 2]\n",
    "# присутствуют значения [1, 9]. Скорее всего вместо 9 должно быть 2. Заменим\n",
    "df.loc[df['Age']>2, ['Age']]=2\n",
    "# в остальных категориальных столбцах значения в рамках допустимых значений"
   ]
  },
  {
   "cell_type": "code",
   "execution_count": 7,
   "id": "2520ef77",
   "metadata": {},
   "outputs": [
    {
     "name": "stdout",
     "output_type": "stream",
     "text": [
      "{259, 3, 265, 75, 141, 269, 80, 208, 82, 275, 20, 55, 84, 281, 91, 99, 229, 39, 103, 41, 298, 106, 44, 295, 238, 244, 54, 118, 120, 186, 251, 125, 255}\n"
     ]
    }
   ],
   "source": [
    "# далее проверяем на выбросы количественные столбцы  (межквартильный размах)\n",
    "linear = {'rectal temperature': 0, 'pulse': 0, 'respiratory rate': 0}\n",
    "outliers = set()                        # сюда вернем множество индексов выбросов по всем количественным колонкам\n",
    "for col in linear.keys():\n",
    "    stats = df[col].describe()\n",
    "    IQR = stats['75%'] - stats['25%'] \n",
    "    LO = stats['25%'] - 1.5 * IQR\n",
    "    HO = stats['75%'] + 1.5 * IQR\n",
    "    col_outliers = set(df.index[df[col]>HO]).union(set(df.index[df[col]<LO]))\n",
    "    linear[col] = len(col_outliers)     # посчитаем выбросы по столбцам (для работы с пропусками)\n",
    "    outliers = (outliers.union(col_outliers))\n",
    "               \n",
    "print(outliers)"
   ]
  },
  {
   "cell_type": "markdown",
   "id": "c834a51d",
   "metadata": {},
   "source": [
    "### Задание 3. Работа с пропусками\n",
    "Рассчитать количество пропусков для всех выбранных столбцов. Принять и обосновать решение о методе заполнения пропусков по каждому столбцу на основе рассчитанных статистик и возможной взаимосвязи значений в них. Сформировать датафрейм, в котором пропуски будут отсутствовать."
   ]
  },
  {
   "cell_type": "code",
   "execution_count": 8,
   "id": "dc3e91e9",
   "metadata": {},
   "outputs": [
    {
     "name": "stdout",
     "output_type": "stream",
     "text": [
      "surgery?                       0.333333\n",
      "Age                            0.000000\n",
      "rectal temperature            20.000000\n",
      "pulse                          8.000000\n",
      "respiratory rate              19.333333\n",
      "temperature of extremities    18.666667\n",
      "pain                          18.333333\n",
      "outcome                        0.333333\n",
      "dtype: float64\n"
     ]
    }
   ],
   "source": [
    "print(df.isna().mean()*100) # % пропусков для каждой колонки\n"
   ]
  },
  {
   "cell_type": "code",
   "execution_count": 9,
   "id": "56f2a860",
   "metadata": {},
   "outputs": [],
   "source": [
    "#процент пропусков небольшой, поэтому можем оставить все столбцы\n",
    "# Age убираем из выборки, так как пропусков там нет\n",
    "categories = ['surgery?', 'temperature of extremities', 'pain', 'outcome']\n",
    "# пропуски в категориальных столбцах заполняем модой, как наиболее вероятным значением\n",
    "fill_missing = df.copy()\n",
    "for col in categories:\n",
    "    fill_missing[col].fillna(fill_missing[col].mode()[0], inplace=True)    "
   ]
  },
  {
   "cell_type": "code",
   "execution_count": 10,
   "id": "d8b1c416",
   "metadata": {},
   "outputs": [
    {
     "data": {
      "text/plain": [
       "{'rectal temperature': 14, 'pulse': 5, 'respiratory rate': 17}"
      ]
     },
     "execution_count": 10,
     "metadata": {},
     "output_type": "execute_result"
    }
   ],
   "source": [
    "# для количественных значений смотрим, есть ли в колонках выбросы\n",
    "linear"
   ]
  },
  {
   "cell_type": "code",
   "execution_count": 11,
   "id": "dfbd743d",
   "metadata": {},
   "outputs": [],
   "source": [
    "# выбросы есть, значит рациональнее заполнить медианой, так как она менее чувствительна к выбросам"
   ]
  },
  {
   "cell_type": "code",
   "execution_count": 12,
   "id": "bb3bf883",
   "metadata": {},
   "outputs": [],
   "source": [
    "for col in linear:\n",
    "    fill_missing[col].fillna(fill_missing[col].median(), inplace=True)"
   ]
  },
  {
   "cell_type": "code",
   "execution_count": 13,
   "id": "5827fd32",
   "metadata": {},
   "outputs": [
    {
     "name": "stdout",
     "output_type": "stream",
     "text": [
      "       rectal temperature  rectal temperature\n",
      "count          240.000000          300.000000\n",
      "mean            38.167917           38.174333\n",
      "std              0.732289            0.654831\n",
      "min             35.400000           35.400000\n",
      "25%             37.800000           37.900000\n",
      "50%             38.200000           38.200000\n",
      "75%             38.500000           38.500000\n",
      "max             40.800000           40.800000\n",
      "            pulse       pulse\n",
      "count  276.000000  300.000000\n",
      "mean    71.913043   71.280000\n",
      "std     28.630557   27.541545\n",
      "min     30.000000   30.000000\n",
      "25%     48.000000   48.000000\n",
      "50%     64.000000   64.000000\n",
      "75%     88.000000   88.000000\n",
      "max    184.000000  184.000000\n",
      "       respiratory rate  respiratory rate\n",
      "count        242.000000        300.000000\n",
      "mean          30.417355         29.273333\n",
      "std           17.642231         16.010979\n",
      "min            8.000000          8.000000\n",
      "25%           18.500000         20.000000\n",
      "50%           24.500000         24.500000\n",
      "75%           36.000000         34.250000\n",
      "max           96.000000         96.000000\n",
      "         surgery?    surgery?\n",
      "count  299.000000  300.000000\n",
      "mean     1.397993    1.396667\n",
      "std      0.490305    0.490023\n",
      "min      1.000000    1.000000\n",
      "25%      1.000000    1.000000\n",
      "50%      1.000000    1.000000\n",
      "75%      2.000000    2.000000\n",
      "max      2.000000    2.000000\n",
      "       temperature of extremities  temperature of extremities\n",
      "count                  244.000000                  300.000000\n",
      "mean                     2.348361                    2.470000\n",
      "std                      1.045054                    0.975845\n",
      "min                      1.000000                    1.000000\n",
      "25%                      1.000000                    1.000000\n",
      "50%                      3.000000                    3.000000\n",
      "75%                      3.000000                    3.000000\n",
      "max                      4.000000                    4.000000\n",
      "            pain        pain\n",
      "count  245.00000  300.000000\n",
      "mean     2.95102    2.960000\n",
      "std      1.30794    1.181689\n",
      "min      1.00000    1.000000\n",
      "25%      2.00000    2.000000\n",
      "50%      3.00000    3.000000\n",
      "75%      4.00000    4.000000\n",
      "max      5.00000    5.000000\n",
      "          outcome     outcome\n",
      "count  299.000000  300.000000\n",
      "mean     1.551839    1.550000\n",
      "std      0.737187    0.736642\n",
      "min      1.000000    1.000000\n",
      "25%      1.000000    1.000000\n",
      "50%      1.000000    1.000000\n",
      "75%      2.000000    2.000000\n",
      "max      3.000000    3.000000\n"
     ]
    }
   ],
   "source": [
    "# сравниваем исходный DF и результат\n",
    "for col in list(linear.keys()) + categories :\n",
    "    print(pd.concat([df[col].describe(),\n",
    "                     fill_missing[col].describe()\n",
    "                    ],\n",
    "                    axis=1\n",
    "                   )\n",
    "         )"
   ]
  },
  {
   "cell_type": "code",
   "execution_count": 14,
   "id": "d17bb951",
   "metadata": {},
   "outputs": [
    {
     "name": "stdout",
     "output_type": "stream",
     "text": [
      "surgery?                      0.0\n",
      "Age                           0.0\n",
      "rectal temperature            0.0\n",
      "pulse                         0.0\n",
      "respiratory rate              0.0\n",
      "temperature of extremities    0.0\n",
      "pain                          0.0\n",
      "outcome                       0.0\n",
      "dtype: float64\n"
     ]
    }
   ],
   "source": [
    "print(fill_missing.isna().mean()*100) # проверяем, все ли заполнено"
   ]
  },
  {
   "cell_type": "code",
   "execution_count": 15,
   "id": "7edd9d9f",
   "metadata": {},
   "outputs": [],
   "source": [
    "# в начале работы, насколько я понял, из-за присутствия NaN df не получалось привести к целым типам\n",
    "# теперь все работает правильно\n",
    "\n",
    "fill_missing = fill_missing.astype({'surgery?': int,\n",
    "                'Age': int,\n",
    "                'rectal temperature': float,\n",
    "                'pulse': int,\n",
    "                'respiratory rate': int,\n",
    "                'temperature of extremities': float,\n",
    "                'pain': int,\n",
    "                'outcome': int\n",
    "               })\n",
    "    "
   ]
  },
  {
   "cell_type": "code",
   "execution_count": 16,
   "id": "2f9b851c",
   "metadata": {},
   "outputs": [
    {
     "name": "stdout",
     "output_type": "stream",
     "text": [
      "<class 'pandas.core.frame.DataFrame'>\n",
      "RangeIndex: 300 entries, 0 to 299\n",
      "Data columns (total 8 columns):\n",
      " #   Column                      Non-Null Count  Dtype  \n",
      "---  ------                      --------------  -----  \n",
      " 0   surgery?                    299 non-null    float64\n",
      " 1   Age                         300 non-null    int32  \n",
      " 2   rectal temperature          240 non-null    float64\n",
      " 3   pulse                       276 non-null    float64\n",
      " 4   respiratory rate            242 non-null    float64\n",
      " 5   temperature of extremities  244 non-null    float64\n",
      " 6   pain                        245 non-null    float64\n",
      " 7   outcome                     299 non-null    float64\n",
      "dtypes: float64(7), int32(1)\n",
      "memory usage: 17.7 KB\n",
      "None\n",
      "<class 'pandas.core.frame.DataFrame'>\n",
      "RangeIndex: 300 entries, 0 to 299\n",
      "Data columns (total 8 columns):\n",
      " #   Column                      Non-Null Count  Dtype  \n",
      "---  ------                      --------------  -----  \n",
      " 0   surgery?                    300 non-null    int32  \n",
      " 1   Age                         300 non-null    int32  \n",
      " 2   rectal temperature          300 non-null    float64\n",
      " 3   pulse                       300 non-null    int32  \n",
      " 4   respiratory rate            300 non-null    int32  \n",
      " 5   temperature of extremities  300 non-null    float64\n",
      " 6   pain                        300 non-null    int32  \n",
      " 7   outcome                     300 non-null    int32  \n",
      "dtypes: float64(2), int32(6)\n",
      "memory usage: 11.8 KB\n",
      "None\n"
     ]
    }
   ],
   "source": [
    "print(df.info())\n",
    "print(fill_missing.info())"
   ]
  }
 ],
 "metadata": {
  "kernelspec": {
   "display_name": "Python 3 (ipykernel)",
   "language": "python",
   "name": "python3"
  },
  "language_info": {
   "codemirror_mode": {
    "name": "ipython",
    "version": 3
   },
   "file_extension": ".py",
   "mimetype": "text/x-python",
   "name": "python",
   "nbconvert_exporter": "python",
   "pygments_lexer": "ipython3",
   "version": "3.9.6"
  }
 },
 "nbformat": 4,
 "nbformat_minor": 5
}
