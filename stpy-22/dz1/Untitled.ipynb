{
 "cells": [
  {
   "cell_type": "markdown",
   "id": "a71e2173",
   "metadata": {},
   "source": [
    "### Задание 1. Загрузка данных\n",
    "Изучить представленный набор данных на основе описания его столбцов, загрузить его и оставить 8 столбцов для дальнейшего изучения: surgery?, Age, rectal temperature, pulse, respiratory rate, temperature of extremities, pain, outcome."
   ]
  },
  {
   "cell_type": "code",
   "execution_count": 111,
   "id": "460ae00d",
   "metadata": {},
   "outputs": [],
   "source": [
    "import pandas as pd\n",
    "from numpy import NaN"
   ]
  },
  {
   "cell_type": "code",
   "execution_count": 112,
   "id": "d71c9773",
   "metadata": {},
   "outputs": [],
   "source": [
    "df = pd.read_csv('horse_data.csv', \n",
    "                 names=['surgery?', 'Age', '3', 'rectal temperature', 'pulse', 'respiratory rate', 'temperature of extremities',\n",
    "                        '8', '9', '10', 'pain', '12', '13', '14', '15', '16','17','18', '19', '20', '21', '22', 'outcome', '24',\n",
    "                        '25', '26', '27', '28'], \n",
    "                 usecols=['surgery?', 'Age', 'rectal temperature', 'pulse', 'respiratory rate', 'temperature of extremities',\n",
    "                          'pain', 'outcome'])\n"
   ]
  },
  {
   "cell_type": "code",
   "execution_count": 113,
   "id": "cc7c9f1f",
   "metadata": {},
   "outputs": [
    {
     "data": {
      "text/html": [
       "<div>\n",
       "<style scoped>\n",
       "    .dataframe tbody tr th:only-of-type {\n",
       "        vertical-align: middle;\n",
       "    }\n",
       "\n",
       "    .dataframe tbody tr th {\n",
       "        vertical-align: top;\n",
       "    }\n",
       "\n",
       "    .dataframe thead th {\n",
       "        text-align: right;\n",
       "    }\n",
       "</style>\n",
       "<table border=\"1\" class=\"dataframe\">\n",
       "  <thead>\n",
       "    <tr style=\"text-align: right;\">\n",
       "      <th></th>\n",
       "      <th>surgery?</th>\n",
       "      <th>Age</th>\n",
       "      <th>rectal temperature</th>\n",
       "      <th>pulse</th>\n",
       "      <th>respiratory rate</th>\n",
       "      <th>temperature of extremities</th>\n",
       "      <th>pain</th>\n",
       "      <th>outcome</th>\n",
       "    </tr>\n",
       "  </thead>\n",
       "  <tbody>\n",
       "    <tr>\n",
       "      <th>0</th>\n",
       "      <td>2</td>\n",
       "      <td>1</td>\n",
       "      <td>38.50</td>\n",
       "      <td>66</td>\n",
       "      <td>28</td>\n",
       "      <td>3</td>\n",
       "      <td>5</td>\n",
       "      <td>2</td>\n",
       "    </tr>\n",
       "    <tr>\n",
       "      <th>1</th>\n",
       "      <td>1</td>\n",
       "      <td>1</td>\n",
       "      <td>39.2</td>\n",
       "      <td>88</td>\n",
       "      <td>20</td>\n",
       "      <td>?</td>\n",
       "      <td>3</td>\n",
       "      <td>3</td>\n",
       "    </tr>\n",
       "    <tr>\n",
       "      <th>2</th>\n",
       "      <td>2</td>\n",
       "      <td>1</td>\n",
       "      <td>38.30</td>\n",
       "      <td>40</td>\n",
       "      <td>24</td>\n",
       "      <td>1</td>\n",
       "      <td>3</td>\n",
       "      <td>1</td>\n",
       "    </tr>\n",
       "    <tr>\n",
       "      <th>3</th>\n",
       "      <td>1</td>\n",
       "      <td>9</td>\n",
       "      <td>39.10</td>\n",
       "      <td>164</td>\n",
       "      <td>84</td>\n",
       "      <td>4</td>\n",
       "      <td>2</td>\n",
       "      <td>2</td>\n",
       "    </tr>\n",
       "    <tr>\n",
       "      <th>4</th>\n",
       "      <td>2</td>\n",
       "      <td>1</td>\n",
       "      <td>37.30</td>\n",
       "      <td>104</td>\n",
       "      <td>35</td>\n",
       "      <td>?</td>\n",
       "      <td>?</td>\n",
       "      <td>2</td>\n",
       "    </tr>\n",
       "    <tr>\n",
       "      <th>...</th>\n",
       "      <td>...</td>\n",
       "      <td>...</td>\n",
       "      <td>...</td>\n",
       "      <td>...</td>\n",
       "      <td>...</td>\n",
       "      <td>...</td>\n",
       "      <td>...</td>\n",
       "      <td>...</td>\n",
       "    </tr>\n",
       "    <tr>\n",
       "      <th>295</th>\n",
       "      <td>1</td>\n",
       "      <td>1</td>\n",
       "      <td>?</td>\n",
       "      <td>120</td>\n",
       "      <td>70</td>\n",
       "      <td>4</td>\n",
       "      <td>2</td>\n",
       "      <td>3</td>\n",
       "    </tr>\n",
       "    <tr>\n",
       "      <th>296</th>\n",
       "      <td>2</td>\n",
       "      <td>1</td>\n",
       "      <td>37.20</td>\n",
       "      <td>72</td>\n",
       "      <td>24</td>\n",
       "      <td>3</td>\n",
       "      <td>4</td>\n",
       "      <td>3</td>\n",
       "    </tr>\n",
       "    <tr>\n",
       "      <th>297</th>\n",
       "      <td>1</td>\n",
       "      <td>1</td>\n",
       "      <td>37.50</td>\n",
       "      <td>72</td>\n",
       "      <td>30</td>\n",
       "      <td>4</td>\n",
       "      <td>4</td>\n",
       "      <td>2</td>\n",
       "    </tr>\n",
       "    <tr>\n",
       "      <th>298</th>\n",
       "      <td>1</td>\n",
       "      <td>1</td>\n",
       "      <td>36.50</td>\n",
       "      <td>100</td>\n",
       "      <td>24</td>\n",
       "      <td>3</td>\n",
       "      <td>3</td>\n",
       "      <td>1</td>\n",
       "    </tr>\n",
       "    <tr>\n",
       "      <th>299</th>\n",
       "      <td>1</td>\n",
       "      <td>1</td>\n",
       "      <td>37.2</td>\n",
       "      <td>40</td>\n",
       "      <td>20</td>\n",
       "      <td>?</td>\n",
       "      <td>?</td>\n",
       "      <td>3</td>\n",
       "    </tr>\n",
       "  </tbody>\n",
       "</table>\n",
       "<p>300 rows × 8 columns</p>\n",
       "</div>"
      ],
      "text/plain": [
       "    surgery?  Age rectal temperature pulse respiratory rate  \\\n",
       "0          2    1              38.50    66               28   \n",
       "1          1    1               39.2    88               20   \n",
       "2          2    1              38.30    40               24   \n",
       "3          1    9              39.10   164               84   \n",
       "4          2    1              37.30   104               35   \n",
       "..       ...  ...                ...   ...              ...   \n",
       "295        1    1                  ?   120               70   \n",
       "296        2    1              37.20    72               24   \n",
       "297        1    1              37.50    72               30   \n",
       "298        1    1              36.50   100               24   \n",
       "299        1    1               37.2    40               20   \n",
       "\n",
       "    temperature of extremities pain outcome  \n",
       "0                            3    5       2  \n",
       "1                            ?    3       3  \n",
       "2                            1    3       1  \n",
       "3                            4    2       2  \n",
       "4                            ?    ?       2  \n",
       "..                         ...  ...     ...  \n",
       "295                          4    2       3  \n",
       "296                          3    4       3  \n",
       "297                          4    4       2  \n",
       "298                          3    3       1  \n",
       "299                          ?    ?       3  \n",
       "\n",
       "[300 rows x 8 columns]"
      ]
     },
     "execution_count": 113,
     "metadata": {},
     "output_type": "execute_result"
    }
   ],
   "source": [
    "df"
   ]
  },
  {
   "cell_type": "code",
   "execution_count": 114,
   "id": "300eb8d6",
   "metadata": {},
   "outputs": [],
   "source": [
    "df = df.replace('?', 1111)   # заменим пропуски \"?\" на 1111, чтобы переопределение типов не вызвало ошибку\n",
    "                             # преварительно убедившись, что ? - это и только это является пропуском\n",
    "df = df.astype({'surgery?': int,\n",
    "                'Age': int,\n",
    "                'rectal temperature': float,\n",
    "                'pulse': int,\n",
    "                'respiratory rate': int,\n",
    "                'temperature of extremities': float,\n",
    "                'pain': int,\n",
    "                'outcome': int\n",
    "               })\n",
    "\n",
    "df = df.replace(1111, NaN)   # заменим пропуски \"1111\" на NaN для удобства работы\n",
    "                            # по непонятной причине после replace(1111, NaN)\n",
    "                            # все ранее целочисленные столбцы стали float"
   ]
  },
  {
   "cell_type": "markdown",
   "id": "813f3604",
   "metadata": {},
   "source": [
    "### Задание 2. Первичное изучение данных\n",
    "Проанализировать значения по столбцам, рассчитать базовые статистики, найти выбросы."
   ]
  },
  {
   "cell_type": "code",
   "execution_count": 118,
   "id": "f12a7727",
   "metadata": {},
   "outputs": [
    {
     "name": "stdout",
     "output_type": "stream",
     "text": [
      "surgery?\n",
      "1.0    180\n",
      "2.0    119\n",
      "Name: surgery?, dtype: int64\n",
      "Age\n",
      "1    276\n",
      "2     24\n",
      "Name: Age, dtype: int64\n",
      "temperature of extremities\n",
      "1.0     78\n",
      "2.0     30\n",
      "3.0    109\n",
      "4.0     27\n",
      "Name: temperature of extremities, dtype: int64\n",
      "pain\n",
      "1.0    38\n",
      "2.0    59\n",
      "3.0    67\n",
      "4.0    39\n",
      "5.0    42\n",
      "Name: pain, dtype: int64\n",
      "outcome\n",
      "1.0    178\n",
      "2.0     77\n",
      "3.0     44\n",
      "Name: outcome, dtype: int64\n"
     ]
    }
   ],
   "source": [
    "categories = ['surgery?', 'Age', 'temperature of extremities', 'pain', 'outcome']\n",
    "# проверим, все ли категориальные столбцы содержат допустимые значения\n",
    "for col in categories:\n",
    "    print(df[col].groupby(df[col]).count())"
   ]
  },
  {
   "cell_type": "code",
   "execution_count": 117,
   "id": "d3ff1a5c",
   "metadata": {},
   "outputs": [],
   "source": [
    "# выброс в столбце возраст, скорее всего это опечатка, допустимый список значений [1, 2]\n",
    "# присутствуют значения [1, 9]. Скорее всего вместо 9 должно быть 2. Заменим\n",
    "df.loc[df['Age']>2, ['Age']]=2\n",
    "# в остальных категориальных столбцах значения в рамках допустимых значений"
   ]
  },
  {
   "cell_type": "code",
   "execution_count": 152,
   "id": "2520ef77",
   "metadata": {},
   "outputs": [
    {
     "name": "stdout",
     "output_type": "stream",
     "text": [
      "{259, 3, 265, 141, 269, 275, 20, 281, 39, 295, 41, 298, 44, 54, 55, 186, 75, 80, 208, 82, 84, 91, 99, 229, 103, 106, 238, 244, 118, 120, 251, 125, 255}\n"
     ]
    }
   ],
   "source": [
    "# далее проверяем на выбросы количественные столбцы  (межквартильный размах)\n",
    "linear = ['rectal temperature', 'pulse', 'respiratory rate']\n",
    "outliers = set()                        # сюда вернем множество индексов выбросов по всем количественным колонкам\n",
    "for col in linear:\n",
    "    stats = df[col].describe()\n",
    "    IQR = stats['75%'] - stats['25%'] \n",
    "    LO = stats['25%'] - 1.5 * IQR\n",
    "    HO = stats['75%'] + 1.5 * IQR\n",
    "    outliers = (outliers.union(set(df.index[df[col]>HO]))\n",
    "                        .union(set(df.index[df[col]<LO]))\n",
    "               )\n",
    "print(outliers)"
   ]
  },
  {
   "cell_type": "markdown",
   "id": "c834a51d",
   "metadata": {},
   "source": [
    "### Задание 3. Работа с пропусками\n",
    "Рассчитать количество пропусков для всех выбранных столбцов. Принять и обосновать решение о методе заполнения пропусков по каждому столбцу на основе рассчитанных статистик и возможной взаимосвязи значений в них. Сформировать датафрейм, в котором пропуски будут отсутствовать."
   ]
  },
  {
   "cell_type": "code",
   "execution_count": 252,
   "id": "dc3e91e9",
   "metadata": {},
   "outputs": [
    {
     "name": "stdout",
     "output_type": "stream",
     "text": [
      "surgery?                       1\n",
      "Age                            0\n",
      "rectal temperature            60\n",
      "pulse                         24\n",
      "respiratory rate              58\n",
      "temperature of extremities    56\n",
      "pain                          55\n",
      "outcome                        1\n",
      "dtype: int64\n",
      "255\n"
     ]
    }
   ],
   "source": [
    "print(df.isnull().sum()) # количество пропусков для каждой колонки\n",
    "print(df.isnull().sum().sum()) # количество пропусков всего"
   ]
  },
  {
   "cell_type": "code",
   "execution_count": 253,
   "id": "2b73bf9a",
   "metadata": {},
   "outputs": [
    {
     "data": {
      "text/html": [
       "<div>\n",
       "<style scoped>\n",
       "    .dataframe tbody tr th:only-of-type {\n",
       "        vertical-align: middle;\n",
       "    }\n",
       "\n",
       "    .dataframe tbody tr th {\n",
       "        vertical-align: top;\n",
       "    }\n",
       "\n",
       "    .dataframe thead th {\n",
       "        text-align: right;\n",
       "    }\n",
       "</style>\n",
       "<table border=\"1\" class=\"dataframe\">\n",
       "  <thead>\n",
       "    <tr style=\"text-align: right;\">\n",
       "      <th></th>\n",
       "      <th>surgery?</th>\n",
       "      <th>Age</th>\n",
       "      <th>rectal temperature</th>\n",
       "      <th>pulse</th>\n",
       "      <th>respiratory rate</th>\n",
       "      <th>temperature of extremities</th>\n",
       "      <th>pain</th>\n",
       "      <th>outcome</th>\n",
       "    </tr>\n",
       "  </thead>\n",
       "  <tbody>\n",
       "    <tr>\n",
       "      <th>132</th>\n",
       "      <td>NaN</td>\n",
       "      <td>1</td>\n",
       "      <td>38.0</td>\n",
       "      <td>48.0</td>\n",
       "      <td>20.0</td>\n",
       "      <td>3.0</td>\n",
       "      <td>4.0</td>\n",
       "      <td>NaN</td>\n",
       "    </tr>\n",
       "  </tbody>\n",
       "</table>\n",
       "</div>"
      ],
      "text/plain": [
       "     surgery?  Age  rectal temperature  pulse  respiratory rate  \\\n",
       "132       NaN    1                38.0   48.0              20.0   \n",
       "\n",
       "     temperature of extremities  pain  outcome  \n",
       "132                         3.0   4.0      NaN  "
      ]
     },
     "execution_count": 253,
     "metadata": {},
     "output_type": "execute_result"
    }
   ],
   "source": [
    "df[df['outcome'].isnull()]"
   ]
  },
  {
   "cell_type": "code",
   "execution_count": 278,
   "id": "bb3bf883",
   "metadata": {},
   "outputs": [
    {
     "name": "stdout",
     "output_type": "stream",
     "text": [
      "1.236842105263158\n",
      "1.4\n",
      "1.5185185185185186\n",
      "1.7685185185185186\n",
      "2.026315789473684\n"
     ]
    }
   ],
   "source": [
    "print(df.loc[df['pulse']<50]['outcome'].mean())\n",
    "print(df.loc[df['rectal temperature']==38]['outcome'].mean())\n",
    "print(df.loc[df['respiratory rate']<30]['outcome'].mean())\n",
    "print(df.loc[df['temperature of extremities']==3]['outcome'].mean())\n",
    "print(df.loc[df['pain']==4]['outcome'].mean())"
   ]
  },
  {
   "cell_type": "code",
   "execution_count": 276,
   "id": "7edd9d9f",
   "metadata": {},
   "outputs": [
    {
     "data": {
      "text/plain": [
       "1.5263157894736843"
      ]
     },
     "execution_count": 276,
     "metadata": {},
     "output_type": "execute_result"
    }
   ],
   "source": [
    "df.loc[df['pulse']<50]['surgery?'].mean()\n",
    "    "
   ]
  }
 ],
 "metadata": {
  "kernelspec": {
   "display_name": "Python 3",
   "language": "python",
   "name": "python3"
  },
  "language_info": {
   "codemirror_mode": {
    "name": "ipython",
    "version": 3
   },
   "file_extension": ".py",
   "mimetype": "text/x-python",
   "name": "python",
   "nbconvert_exporter": "python",
   "pygments_lexer": "ipython3",
   "version": "3.8.0"
  }
 },
 "nbformat": 4,
 "nbformat_minor": 5
}
