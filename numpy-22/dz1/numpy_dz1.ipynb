{
 "cells": [
  {
   "cell_type": "code",
   "execution_count": 33,
   "id": "c53c7eea",
   "metadata": {},
   "outputs": [],
   "source": [
    "import numpy as np"
   ]
  },
  {
   "cell_type": "markdown",
   "id": "12f45516",
   "metadata": {},
   "source": [
    "## Задание 1\n",
    "Создайте numpy array с элементами от числа N до 0 (например, для N = 10 это будет array([9, 8, 7, 6, 5, 4, 3, 2, 1, 0]))"
   ]
  },
  {
   "cell_type": "code",
   "execution_count": 34,
   "id": "30c4df1f",
   "metadata": {},
   "outputs": [
    {
     "name": "stdout",
     "output_type": "stream",
     "text": [
      "[8 7 6 5 4 3 2 1 0]\n"
     ]
    }
   ],
   "source": [
    "n = 9\n",
    "a = np.arange(n - 1, -1, -1)\n",
    "print(a)"
   ]
  },
  {
   "cell_type": "markdown",
   "id": "e926893e",
   "metadata": {},
   "source": [
    "## Задание 2\n",
    "Создайте диагональную матрицу с элементами от N до 0. Посчитайте сумму ее значений на диагонали"
   ]
  },
  {
   "cell_type": "code",
   "execution_count": 35,
   "id": "2d6f0d97",
   "metadata": {},
   "outputs": [
    {
     "name": "stdout",
     "output_type": "stream",
     "text": [
      "[[8 0 0 0 0 0 0 0 0]\n",
      " [0 7 0 0 0 0 0 0 0]\n",
      " [0 0 6 0 0 0 0 0 0]\n",
      " [0 0 0 5 0 0 0 0 0]\n",
      " [0 0 0 0 4 0 0 0 0]\n",
      " [0 0 0 0 0 3 0 0 0]\n",
      " [0 0 0 0 0 0 2 0 0]\n",
      " [0 0 0 0 0 0 0 1 0]\n",
      " [0 0 0 0 0 0 0 0 0]]\n",
      "36\n"
     ]
    }
   ],
   "source": [
    "d = np.diag(a, k=0)\n",
    "print(d)\n",
    "print(sum(np.diagonal(d)))"
   ]
  },
  {
   "cell_type": "markdown",
   "id": "6da9c882",
   "metadata": {},
   "source": [
    "## Задание 3\n",
    "Решите систему уравнений:\n",
    "4x + 2y + z = 4\n",
    "x + 3y = 12\n",
    "5y + 4z = -3"
   ]
  },
  {
   "cell_type": "code",
   "execution_count": 36,
   "id": "ef338ab6",
   "metadata": {},
   "outputs": [
    {
     "name": "stdout",
     "output_type": "stream",
     "text": [
      "[ 0.46666667  3.84444444 -5.55555556]\n"
     ]
    }
   ],
   "source": [
    "u = np.array([[4, 2, 1], [1, 3, 0], [0, 5, 4]])\n",
    "v = np.array([4, 12, -3])\n",
    "xyz = np.linalg.solve(u, v)\n",
    "print(xyz)"
   ]
  },
  {
   "cell_type": "markdown",
   "id": "415f2a9c",
   "metadata": {},
   "source": [
    "## Задание 4\n",
    "Имеется матрица покупок в интернет-магазине. Столбец А - ID пользователя. Остальные столбцы - количество покупок категорий товаров этим пользователем:\n",
    "users_stats = np.array(\n",
    "    [\n",
    "        [2, 1, 0, 0, 0, 0],\n",
    "        [1, 1, 2, 1, 0, 0],\n",
    "        [2, 0, 1, 0, 0, 0],\n",
    "        [1, 1, 2, 1, 0, 1],\n",
    "        [0, 0, 1, 2, 0, 0],\n",
    "        [0, 0, 0, 0, 0, 5],\n",
    "        [1, 0, 0, 0, 0, 0],\n",
    "        [0, 1, 1, 0, 0, 0],\n",
    "        [0, 0, 0, 1, 1, 3],\n",
    "        [1, 0, 0, 2, 1, 4]\n",
    "    ], \n",
    "    np.int32\n",
    ")\n",
    "На сайт заходит очередной посетитель, о покупках которого известно следующее:\n",
    "next_user_stats = np.array([0, 1, 2, 0, 0, 0])\n",
    "Найдите самого похожего пользователя. Т. е. посчитайте косинусное сходство между этим пользователем и всеми пользователями из массива user_stats"
   ]
  },
  {
   "cell_type": "code",
   "execution_count": 37,
   "id": "68335a47",
   "metadata": {},
   "outputs": [
    {
     "name": "stdout",
     "output_type": "stream",
     "text": [
      "Вектор косинусных метрик: ['0.20', '0.85', '0.40', '0.79', '0.40', '0.00', '0.00', '0.95', '0.00', '0.00', '0.99', '0.11']\n",
      "Вектор покупок нового пользователя:  [0, 1, 2, 0, 0, 0]\n",
      "Вектор самого похожего пользователя: [[0, 1, 3, 0, 0, 0]]\n",
      "           Значение меры похожести: 0.99 Индекс пользователя: [10]\n"
     ]
    }
   ],
   "source": [
    "# исходные данные\n",
    "users_stats = np.array(\n",
    "    [\n",
    "        [2, 1, 0, 0, 0, 0],\n",
    "        [1, 1, 2, 1, 0, 0],\n",
    "        [2, 0, 1, 0, 0, 0],\n",
    "        [1, 1, 2, 1, 0, 1],\n",
    "        [0, 0, 1, 2, 0, 0],\n",
    "        [0, 0, 0, 0, 0, 5],\n",
    "        [1, 0, 0, 0, 0, 0],\n",
    "        [0, 2, 2, 0, 0, 0],\n",
    "        [0, 0, 0, 1, 1, 3],\n",
    "        [1, 0, 0, 2, 1, 4],\n",
    "        [0, 1, 3, 0, 0, 0],\n",
    "        [2, 1, 0, 2, 2, 2]\n",
    "    ], \n",
    "    np.int32\n",
    ")\n",
    "next_user_stats = np.array([0, 1, 2, 0, 0, 0])\n",
    "\n",
    "# косинус угла между векторами a и b\n",
    "def cosine(a, b):\n",
    "    len_a = np.linalg.norm(a)\n",
    "    len_b = np.linalg.norm(b)\n",
    "# необходимо исключить 0 в знаменателе\n",
    "    if len_a != 0 and len_b != 0:\n",
    "        return np.dot(a, b) / (len_a * len_b)\n",
    "    else:\n",
    "# 0 в знаменателе означает, что кто-то из сравниваемых пользователей (или оба) ничего не покупал и\n",
    "# считать его похожим на другого не имеет смысла -> возвращаем 0\n",
    "        return 0\n",
    "\n",
    "# вектор косинусных метрик\n",
    "cos_metric = np.array([cosine(next_user_stats, user_stats) for user_stats in users_stats])\n",
    "# максимальное значение метрики\n",
    "max_cos_metric = np.max(cos_metric)\n",
    "# проверяем существует ли пользователь с метрикой схожести, отличной от 0\n",
    "# отрицательные значения не проверяем, так как по условию задачи измерения векторов либо нулевые либо имеют положительное направление\n",
    "if max_cos_metric !=0:\n",
    "    # !ЕСТЬ! \n",
    "    # Возможно, пользователей с одинаковой максимальной метрикой несколько, \n",
    "    # создаем массив индексов максимально похожих пользователей\n",
    "    \n",
    "    max_indexes = [i for i, max_ in enumerate(cos_metric) if max_ == max_cos_metric]\n",
    "    print(f'Вектор косинусных метрик: {list(format(cm, \".2f\") for cm in cos_metric)}')\n",
    "    print(f'Вектор покупок нового пользователя: ', list(next_user_stats))\n",
    "    print(f'Вектор самого похожего пользователя: {[list(users_stats[i]) for i in max_indexes]}\\n', \n",
    "          f'          Значение меры похожести: {max_cos_metric :0.2f}',\n",
    "          f'Индекс пользователя: {max_indexes}' \n",
    "         )\n",
    "    # Но, если нужно найти только одного пользователя, можно использовать метод np.argmax()\n",
    "else:\n",
    "    # Либо все векторы имеют длину 0, либо новый пользователь с нулевой длиной вектора\n",
    "    print('Сходства не найдено!!!')\n",
    "    "
   ]
  },
  {
   "cell_type": "code",
   "execution_count": null,
   "id": "21364bbb",
   "metadata": {},
   "outputs": [],
   "source": []
  }
 ],
 "metadata": {
  "kernelspec": {
   "display_name": "Python 3",
   "language": "python",
   "name": "python3"
  },
  "language_info": {
   "codemirror_mode": {
    "name": "ipython",
    "version": 3
   },
   "file_extension": ".py",
   "mimetype": "text/x-python",
   "name": "python",
   "nbconvert_exporter": "python",
   "pygments_lexer": "ipython3",
   "version": "3.8.0"
  }
 },
 "nbformat": 4,
 "nbformat_minor": 5
}
