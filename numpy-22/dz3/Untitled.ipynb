{
 "cells": [
  {
   "cell_type": "code",
   "execution_count": null,
   "id": "5f7c9494",
   "metadata": {},
   "outputs": [],
   "source": [
    "#Задание 1\n",
    "Напишите функцию, которая классифицирует фильмы из материалов занятия по следующим правилам:\n",
    "- оценка 2 и меньше - низкий рейтинг\n",
    "- оценка 4 и меньше - средний рейтинг\n",
    "- оценка 4.5 и 5 - высокий рейтинг\n",
    "\n",
    "Результат классификации запишите в столбец class"
   ]
  },
  {
   "cell_type": "code",
   "execution_count": 1,
   "id": "ac481df5",
   "metadata": {},
   "outputs": [],
   "source": [
    "import pandas as pd"
   ]
  },
  {
   "cell_type": "code",
   "execution_count": 131,
   "id": "4abac2ad",
   "metadata": {},
   "outputs": [],
   "source": [
    "ratings = pd.read_csv('ratings.csv', usecols = [\"movieId\", \"rating\"])\n",
    "movies = pd.read_csv('movies.csv', usecols = [\"movieId\", \"title\"])"
   ]
  },
  {
   "cell_type": "code",
   "execution_count": 158,
   "id": "493439e0",
   "metadata": {},
   "outputs": [
    {
     "ename": "TypeError",
     "evalue": "rename() got an unexpected keyword argument 'columns'",
     "output_type": "error",
     "traceback": [
      "\u001b[1;31m---------------------------------------------------------------------------\u001b[0m",
      "\u001b[1;31mTypeError\u001b[0m                                 Traceback (most recent call last)",
      "\u001b[1;32m<ipython-input-158-be0d26ea4348>\u001b[0m in \u001b[0;36m<module>\u001b[1;34m\u001b[0m\n\u001b[0;32m     17\u001b[0m \u001b[1;31m#movies['class'] = movies.merge(ratings, how = 'left', left_on = 'movieId', right_on = 'movieId').groupby('title').apply(ave_rating)\u001b[0m\u001b[1;33m\u001b[0m\u001b[1;33m\u001b[0m\u001b[1;33m\u001b[0m\u001b[0m\n\u001b[0;32m     18\u001b[0m \u001b[1;31m#movies['mean'] = movies.merge(ratings, how = 'left', left_on = 'movieId', right_on = 'movieId').groupby('title').rating.mean()\u001b[0m\u001b[1;33m\u001b[0m\u001b[1;33m\u001b[0m\u001b[1;33m\u001b[0m\u001b[0m\n\u001b[1;32m---> 19\u001b[1;33m \u001b[0mratings\u001b[0m\u001b[1;33m.\u001b[0m\u001b[0mgroupby\u001b[0m\u001b[1;33m(\u001b[0m\u001b[1;34m'movieId'\u001b[0m\u001b[1;33m)\u001b[0m\u001b[1;33m.\u001b[0m\u001b[0mapply\u001b[0m\u001b[1;33m(\u001b[0m\u001b[0mave_rating\u001b[0m\u001b[1;33m)\u001b[0m\u001b[1;33m.\u001b[0m\u001b[0mrename\u001b[0m\u001b[1;33m(\u001b[0m\u001b[0mcolumns\u001b[0m\u001b[1;33m=\u001b[0m\u001b[1;33m{\u001b[0m\u001b[1;34m'movieId'\u001b[0m\u001b[1;33m:\u001b[0m\u001b[1;34m'myclass'\u001b[0m\u001b[1;33m}\u001b[0m\u001b[1;33m,\u001b[0m \u001b[0minplace\u001b[0m \u001b[1;33m=\u001b[0m \u001b[1;32mTrue\u001b[0m\u001b[1;33m)\u001b[0m\u001b[1;33m\u001b[0m\u001b[1;33m\u001b[0m\u001b[0m\n\u001b[0m\u001b[0;32m     20\u001b[0m \u001b[1;33m\u001b[0m\u001b[0m\n\u001b[0;32m     21\u001b[0m \u001b[1;33m\u001b[0m\u001b[0m\n",
      "\u001b[1;31mTypeError\u001b[0m: rename() got an unexpected keyword argument 'columns'"
     ]
    }
   ],
   "source": [
    "def ave_rating(data):\n",
    "    try:\n",
    "        result = data.rating.sum() / data.rating.count()\n",
    "        if result <= 2.0:\n",
    "            answer = 'низкий рейтинг'\n",
    "        elif result <= 4.0:\n",
    "            answer = 'средний рейтинг'\n",
    "        else:\n",
    "            answer = 'высокий рейтинг'\n",
    "    except:\n",
    "        answer = 'нет оценок'\n",
    "    return answer\n",
    "#movies_ratings = movies.merge(ratings, how = 'left', left_on = 'movieId', right_on = 'movieId')\n",
    "#ave_ratings\n",
    "#movies['ave'] = \n",
    "#movies['class'] = \n",
    "#movies['class'] = movies.merge(ratings, how = 'left', left_on = 'movieId', right_on = 'movieId').groupby('title').apply(ave_rating)\n",
    "#movies['mean'] = movies.merge(ratings, how = 'left', left_on = 'movieId', right_on = 'movieId').groupby('title').rating.mean()\n",
    "ratings.groupby('movieId').apply(ave_rating).rename(columns={'movieId':'myclass'}, inplace = True)\n",
    "\n",
    "\n",
    "\n"
   ]
  },
  {
   "cell_type": "code",
   "execution_count": 154,
   "id": "76feb4c8",
   "metadata": {},
   "outputs": [],
   "source": [
    "?ratings.rename"
   ]
  },
  {
   "cell_type": "code",
   "execution_count": 134,
   "id": "7497d681",
   "metadata": {},
   "outputs": [
    {
     "name": "stdout",
     "output_type": "stream",
     "text": [
      "                                           movieId  class  rating\n",
      "title                                                            \n",
      "\"Great Performances\" Cats (1998)                 2      0       2\n",
      "$9.99 (2008)                                     3      0       3\n",
      "'Hellboy': The Seeds of Creation (2004)          1      0       1\n",
      "'Neath the Arizona Skies (1934)                  1      0       1\n",
      "'Round Midnight (1986)                           2      0       2\n",
      "...                                            ...    ...     ...\n",
      "xXx (2002)                                      23      0      23\n",
      "xXx: State of the Union (2005)                   1      0       1\n",
      "¡Three Amigos! (1986)                           31      0      31\n",
      "À nous la liberté (Freedom for Us) (1931)        1      0       1\n",
      "İtirazım Var (2014)                              1      0       1\n",
      "\n",
      "[9123 rows x 3 columns]\n"
     ]
    }
   ],
   "source": []
  },
  {
   "cell_type": "code",
   "execution_count": 120,
   "id": "11bf5f1e",
   "metadata": {},
   "outputs": [
    {
     "data": {
      "text/plain": [
       "movieId\n",
       "1                   супер фильм\n",
       "2                   супер фильм\n",
       "3                   супер фильм\n",
       "4                   супер фильм\n",
       "5                   супер фильм\n",
       "                  ...          \n",
       "161944          высокий рейтинг\n",
       "162376    выше среднего рейтинг\n",
       "162542          высокий рейтинг\n",
       "162672          средний рейтинг\n",
       "163949          высокий рейтинг\n",
       "Length: 9066, dtype: object"
      ]
     },
     "execution_count": 120,
     "metadata": {},
     "output_type": "execute_result"
    }
   ],
   "source": [
    "ave_ratings"
   ]
  },
  {
   "cell_type": "code",
   "execution_count": 31,
   "id": "e8d235d0",
   "metadata": {},
   "outputs": [],
   "source": [
    "?pd.merge"
   ]
  }
 ],
 "metadata": {
  "kernelspec": {
   "display_name": "Python 3",
   "language": "python",
   "name": "python3"
  },
  "language_info": {
   "codemirror_mode": {
    "name": "ipython",
    "version": 3
   },
   "file_extension": ".py",
   "mimetype": "text/x-python",
   "name": "python",
   "nbconvert_exporter": "python",
   "pygments_lexer": "ipython3",
   "version": "3.8.0"
  }
 },
 "nbformat": 4,
 "nbformat_minor": 5
}
