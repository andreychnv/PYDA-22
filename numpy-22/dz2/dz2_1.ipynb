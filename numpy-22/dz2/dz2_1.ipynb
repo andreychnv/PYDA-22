{
 "cells": [
  {
   "cell_type": "markdown",
   "id": "7a7b6744",
   "metadata": {},
   "source": [
    "### Задание 1\n",
    "Скачайте с сайта grouplens.org...movielens/ датасет любого размера. Определите какому фильму было выставлено больше всего оценок 5.0."
   ]
  },
  {
   "cell_type": "code",
   "execution_count": 127,
   "id": "c2bea414",
   "metadata": {},
   "outputs": [],
   "source": [
    "import pandas as pd"
   ]
  },
  {
   "cell_type": "code",
   "execution_count": 128,
   "id": "577910ef",
   "metadata": {},
   "outputs": [],
   "source": [
    "ratings = pd.read_csv('ratings.csv', usecols = [\"movieId\", \"rating\"])\n",
    "movies = pd.read_csv('movies.csv', usecols = [\"movieId\", \"title\"])"
   ]
  },
  {
   "cell_type": "code",
   "execution_count": 129,
   "id": "da83dda2",
   "metadata": {},
   "outputs": [
    {
     "data": {
      "text/plain": [
       "314    Shawshank Redemption, The (1994)\n",
       "Name: title, dtype: object"
      ]
     },
     "execution_count": 129,
     "metadata": {},
     "output_type": "execute_result"
    }
   ],
   "source": [
    "#отбираем только с оценками=5, группируем по id фильма, считаем количество, получаем индекс(id) максимума count(rating),\n",
    "#обращемся к нулевому значению Series, результат - в фильтр фильмов по id и выводим поле Название кина))\n",
    "movies.query(f'movieId == {ratings.query(\"rating == 5\").groupby([\"movieId\"]).count().idxmax()[0]}')['title']"
   ]
  },
  {
   "cell_type": "markdown",
   "id": "ca3c47af",
   "metadata": {},
   "source": [
    "### Задание 2\n",
    "По данным файла power.csv посчитайте суммарное потребление стран Прибалтики (Латвия, Литва и Эстония) категорий 4, 12 и 21 за период с 2005 по 2010 года. Не учитывайте в расчетах отрицательные значения quantity."
   ]
  },
  {
   "cell_type": "code",
   "execution_count": 150,
   "id": "272f007e",
   "metadata": {},
   "outputs": [],
   "source": [
    "power = pd.read_csv('power.csv')#, usecols = [\"movieId\", \"rating\"])"
   ]
  },
  {
   "cell_type": "code",
   "execution_count": 151,
   "id": "ed2a35f3",
   "metadata": {},
   "outputs": [
    {
     "data": {
      "text/plain": [
       "240580.0"
      ]
     },
     "execution_count": 151,
     "metadata": {},
     "output_type": "execute_result"
    }
   ],
   "source": [
    "query_ = 'country in [\"Estonia\", \"Latvia\", \"Lithuania\"] and category in [4, 12, 21] and 2005<=year<=2010 and quantity>0'\n",
    "power.query(query_)['quantity'].sum()"
   ]
  },
  {
   "cell_type": "markdown",
   "id": "6a023a07",
   "metadata": {},
   "source": [
    "### Задание 3\n",
    "Выберите страницу любого сайта с табличными данными. Импортируйте таблицы в pandas dataframe."
   ]
  },
  {
   "cell_type": "code",
   "execution_count": null,
   "id": "baaca308",
   "metadata": {},
   "outputs": [],
   "source": []
  }
 ],
 "metadata": {
  "kernelspec": {
   "display_name": "Python 3",
   "language": "python",
   "name": "python3"
  },
  "language_info": {
   "codemirror_mode": {
    "name": "ipython",
    "version": 3
   },
   "file_extension": ".py",
   "mimetype": "text/x-python",
   "name": "python",
   "nbconvert_exporter": "python",
   "pygments_lexer": "ipython3",
   "version": "3.9.5"
  }
 },
 "nbformat": 4,
 "nbformat_minor": 5
}
