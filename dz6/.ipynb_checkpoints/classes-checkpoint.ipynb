{
 "cells": [
  {
   "cell_type": "markdown",
   "id": "0009f65e",
   "metadata": {},
   "source": [
    "### Задание 1, 2"
   ]
  },
  {
   "cell_type": "code",
   "execution_count": 1,
   "id": "59b40c30",
   "metadata": {},
   "outputs": [],
   "source": [
    "import requests\n",
    "from libs.exchange import Rate"
   ]
  },
  {
   "cell_type": "code",
   "execution_count": 2,
   "id": "443385b2",
   "metadata": {},
   "outputs": [],
   "source": [
    "a = Rate(format='full')\n",
    "class My_Rate(Rate):\n",
    "    def __init__(self):\n",
    "        super().__init__(format='full')\n",
    "        self.diff = True\n",
    "   \n",
    "    def max_rate(self):\n",
    "        \"\"\"\n",
    "        Задание 1. Возвращает наименование валюты с максимальным курсом\n",
    "        \"\"\"\n",
    "        currency_dict = self.exchange_rates()\n",
    "        max_name = ''\n",
    "        max_value = 0\n",
    "        for currency in currency_dict.values():\n",
    "            if currency['Value'] > max_value:\n",
    "                max_name = currency['Name']\n",
    "                max_value = currency['Value']\n",
    "        return max_name\n",
    "    \n",
    "    def make_format(self, currency):\n",
    "        \"\"\"\n",
    "        Задание 2.\n",
    "        Возвращает информацию о валюте currency в трех вариантах:\n",
    "        - при self.format = 'full' полная информация о валюте:\n",
    "        Rate('full').make_format('EUR')\n",
    "        {\n",
    "            'CharCode': 'EUR',\n",
    "            'ID': 'R01239',\n",
    "            'Name': 'Евро',\n",
    "            'Nominal': 1,\n",
    "            'NumCode': '978',\n",
    "            'Previous': 79.6765,\n",
    "            'Value': 79.4966\n",
    "        }\n",
    "        - при self.format = 'value':\n",
    "            - self.diff = True -> разницу текущего и предыдущего курсов\n",
    "            - self.diff = False -> текущий курс\n",
    "        \"\"\"\n",
    "        response = self.exchange_rates()\n",
    "        if currency in response:\n",
    "            if self.format == 'full':\n",
    "                return response[currency]\n",
    "            \n",
    "            if self.format == 'value':\n",
    "                return round(response[currency]['Value'] - (response[currency]['Previous'] if self.diff else 0), 4) \n",
    "        return 'Error'\n"
   ]
  },
  {
   "cell_type": "code",
   "execution_count": 3,
   "id": "efeef76a",
   "metadata": {},
   "outputs": [],
   "source": [
    "b = My_Rate()"
   ]
  },
  {
   "cell_type": "code",
   "execution_count": 4,
   "id": "30701cf4",
   "metadata": {},
   "outputs": [
    {
     "data": {
      "text/plain": [
       "'СДР (специальные права заимствования)'"
      ]
     },
     "execution_count": 4,
     "metadata": {},
     "output_type": "execute_result"
    }
   ],
   "source": [
    "b.max_rate()"
   ]
  },
  {
   "cell_type": "code",
   "execution_count": 5,
   "id": "8d7f6be1",
   "metadata": {},
   "outputs": [
    {
     "data": {
      "text/plain": [
       "{'ID': 'R01239',\n",
       " 'NumCode': '978',\n",
       " 'CharCode': 'EUR',\n",
       " 'Nominal': 1,\n",
       " 'Name': 'Евро',\n",
       " 'Value': 85.9943,\n",
       " 'Previous': 86.7012}"
      ]
     },
     "execution_count": 5,
     "metadata": {},
     "output_type": "execute_result"
    }
   ],
   "source": [
    "b.eur()"
   ]
  },
  {
   "cell_type": "code",
   "execution_count": 6,
   "id": "c2969cca",
   "metadata": {},
   "outputs": [
    {
     "data": {
      "text/plain": [
       "85.9943"
      ]
     },
     "execution_count": 6,
     "metadata": {},
     "output_type": "execute_result"
    }
   ],
   "source": [
    "b.format = 'value'\n",
    "b.diff = False\n",
    "b.eur()"
   ]
  },
  {
   "cell_type": "code",
   "execution_count": 7,
   "id": "541af0ff",
   "metadata": {},
   "outputs": [
    {
     "data": {
      "text/plain": [
       "-0.7069"
      ]
     },
     "execution_count": 7,
     "metadata": {},
     "output_type": "execute_result"
    }
   ],
   "source": [
    "b.format = 'value'\n",
    "b.diff = True\n",
    "b.eur()"
   ]
  },
  {
   "cell_type": "code",
   "execution_count": 8,
   "id": "11911b55",
   "metadata": {},
   "outputs": [
    {
     "data": {
      "text/plain": [
       "{'ID': 'R01239',\n",
       " 'NumCode': '978',\n",
       " 'CharCode': 'EUR',\n",
       " 'Nominal': 1,\n",
       " 'Name': 'Евро',\n",
       " 'Value': 85.9943,\n",
       " 'Previous': 86.7012}"
      ]
     },
     "execution_count": 8,
     "metadata": {},
     "output_type": "execute_result"
    }
   ],
   "source": [
    "b.format = 'full'\n",
    "b.diff = False\n",
    "b.eur()"
   ]
  },
  {
   "cell_type": "code",
   "execution_count": 9,
   "id": "cb70f6a9",
   "metadata": {},
   "outputs": [
    {
     "data": {
      "text/plain": [
       "{'ID': 'R01239',\n",
       " 'NumCode': '978',\n",
       " 'CharCode': 'EUR',\n",
       " 'Nominal': 1,\n",
       " 'Name': 'Евро',\n",
       " 'Value': 85.9943,\n",
       " 'Previous': 86.7012}"
      ]
     },
     "execution_count": 9,
     "metadata": {},
     "output_type": "execute_result"
    }
   ],
   "source": [
    "b.format = 'full'\n",
    "b.diff = False\n",
    "b.eur()"
   ]
  },
  {
   "cell_type": "markdown",
   "id": "58bee03c",
   "metadata": {},
   "source": [
    "### Задание 3 (надеюсь, правильно понял условие)"
   ]
  },
  {
   "cell_type": "code",
   "execution_count": 10,
   "id": "3b5c5480",
   "metadata": {},
   "outputs": [],
   "source": [
    "class Employee:\n",
    "    def __init__(self, name, seniority):\n",
    "        self.name = name\n",
    "        self.seniority = seniority\n",
    "        \n",
    "        self.grade = 1\n",
    "    \n",
    "    def grade_up(self):\n",
    "        \"\"\"Повышает уровень сотрудника\"\"\"\n",
    "        self.grade += 1\n",
    "    \n",
    "    def publish_grade(self):\n",
    "        \"\"\"Публикация результатов аккредитации сотрудников\"\"\"\n",
    "        print(self.name, self.grade)\n",
    "    \n",
    "    def check_if_it_is_time_for_upgrade(self):\n",
    "        pass"
   ]
  },
  {
   "cell_type": "code",
   "execution_count": 11,
   "id": "9a09a3e4",
   "metadata": {},
   "outputs": [],
   "source": [
    "class Designer(Employee):\n",
    "    def __init__(self, name, seniority):\n",
    "        super().__init__(name, seniority)\n",
    "        # при выходе на работу сотрудник уже имеет две премии\n",
    "        self.award_points = 2\n",
    "\n",
    "    def check_if_it_is_time_for_upgrade(self):\n",
    "        # для каждой аккредитации увеличиваем счетчик на 1\n",
    "        # по аналогии с разработчиками считаем, что все дизайнеры проходят аккредитацию\n",
    "        self.seniority += 1\n",
    "        \n",
    "        # каждая пятая аккредитация повышает грейд на 1\n",
    "        if self.seniority % 5 == 0:\n",
    "            self.grade_up()\n",
    "        \n",
    "        # публикация результатов\n",
    "        return self.publish_grade()    \n",
    "   \n",
    "    def international_award(self):\n",
    "        # для каждой премии увеличиваем счетчик на 2\n",
    "        self.award_points += 2\n",
    "        \n",
    "        # проверяем, если во время повышения на 2 перескочили кратное 7, то увеличиваем грейд:\n",
    "        if (self.award_points - 2) // 7 != self.award_points // 7:\n",
    "            self.grade_up()\n",
    "        \n",
    "#         вариант 2\n",
    "#         self.award_points += 1\n",
    "#         if self.award_points % 7 == 0:\n",
    "#             self.grade_up()\n",
    "#         self.award_points += 1\n",
    "#         if self.award_points % 7 == 0:\n",
    "#             self.grade_up()\n",
    "\n",
    "        # публикация результатов\n",
    "        return self.publish_grade()"
   ]
  },
  {
   "cell_type": "code",
   "execution_count": 12,
   "id": "efd871ae",
   "metadata": {},
   "outputs": [],
   "source": [
    "gleb = Designer('Глеб', 0)"
   ]
  },
  {
   "cell_type": "code",
   "execution_count": 13,
   "id": "60f5c221",
   "metadata": {},
   "outputs": [
    {
     "name": "stdout",
     "output_type": "stream",
     "text": [
      "баллы за премии: 2  грейд: 1 seniority: 0\n",
      "Глеб 1\n",
      "баллы за премии: 4  грейд: 1 seniority: 0\n",
      "Глеб 1\n",
      "баллы за премии: 6  грейд: 1 seniority: 0\n",
      "Глеб 2\n",
      "баллы за премии: 8  грейд: 2 seniority: 0\n",
      "Глеб 2\n",
      "баллы за премии: 10  грейд: 2 seniority: 0\n",
      "Глеб 2\n",
      "баллы за премии: 12  грейд: 2 seniority: 0\n",
      "Глеб 3\n",
      "баллы за премии: 14  грейд: 3 seniority: 0\n",
      "Глеб 3\n",
      "баллы за премии: 16  грейд: 3 seniority: 0\n",
      "Глеб 3\n",
      "баллы за премии: 18  грейд: 3 seniority: 0\n",
      "Глеб 3\n",
      "баллы за премии: 20  грейд: 3 seniority: 0\n",
      "Глеб 4\n",
      "баллы за премии: 22  грейд: 4 seniority: 0\n",
      "Глеб 4\n",
      "баллы за премии: 24  грейд: 4 seniority: 0\n",
      "Глеб 4\n",
      "баллы за премии: 26  грейд: 4 seniority: 0\n",
      "Глеб 5\n",
      "баллы за премии: 28  грейд: 5 seniority: 0\n",
      "Глеб 5\n",
      "баллы за премии: 30  грейд: 5 seniority: 0\n",
      "Глеб 5\n",
      "баллы за премии: 32  грейд: 5 seniority: 0\n",
      "Глеб 5\n",
      "баллы за премии: 34  грейд: 5 seniority: 0\n",
      "Глеб 6\n",
      "баллы за премии: 36  грейд: 6 seniority: 0\n",
      "Глеб 6\n",
      "баллы за премии: 38  грейд: 6 seniority: 0\n",
      "Глеб 6\n",
      "баллы за премии: 40  грейд: 6 seniority: 0\n",
      "Глеб 7\n",
      "баллы за премии: 42  грейд: 7 seniority: 0\n",
      "Глеб 7\n"
     ]
    }
   ],
   "source": [
    "for i in range(21):\n",
    "    print('баллы за премии:', gleb.award_points, ' грейд:', gleb.grade, 'seniority:', gleb.seniority)\n",
    "    gleb.international_award()    "
   ]
  },
  {
   "cell_type": "code",
   "execution_count": 14,
   "id": "029aac33",
   "metadata": {},
   "outputs": [
    {
     "name": "stdout",
     "output_type": "stream",
     "text": [
      "баллы за премии: 44  грейд: 7 seniority: 0\n",
      "Глеб 7\n",
      "баллы за премии: 44  грейд: 7 seniority: 1\n",
      "Глеб 7\n",
      "баллы за премии: 44  грейд: 7 seniority: 2\n",
      "Глеб 7\n",
      "баллы за премии: 44  грейд: 7 seniority: 3\n",
      "Глеб 7\n",
      "баллы за премии: 44  грейд: 7 seniority: 4\n",
      "Глеб 8\n",
      "баллы за премии: 44  грейд: 8 seniority: 5\n",
      "Глеб 8\n",
      "баллы за премии: 44  грейд: 8 seniority: 6\n",
      "Глеб 8\n",
      "баллы за премии: 44  грейд: 8 seniority: 7\n",
      "Глеб 8\n",
      "баллы за премии: 44  грейд: 8 seniority: 8\n",
      "Глеб 8\n",
      "баллы за премии: 44  грейд: 8 seniority: 9\n",
      "Глеб 9\n"
     ]
    }
   ],
   "source": [
    "for i in range(10):\n",
    "    print('баллы за премии:', gleb.award_points, ' грейд:', gleb.grade, 'seniority:', gleb.seniority)\n",
    "    gleb.check_if_it_is_time_for_upgrade()"
   ]
  }
 ],
 "metadata": {
  "kernelspec": {
   "display_name": "Python 3",
   "language": "python",
   "name": "python3"
  },
  "language_info": {
   "codemirror_mode": {
    "name": "ipython",
    "version": 3
   },
   "file_extension": ".py",
   "mimetype": "text/x-python",
   "name": "python",
   "nbconvert_exporter": "python",
   "pygments_lexer": "ipython3",
   "version": "3.9.5"
  }
 },
 "nbformat": 4,
 "nbformat_minor": 5
}
