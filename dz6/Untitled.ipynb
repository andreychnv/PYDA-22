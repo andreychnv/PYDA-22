{
 "cells": [
  {
   "cell_type": "code",
   "execution_count": 39,
   "id": "c97159ca",
   "metadata": {},
   "outputs": [
    {
     "data": {
      "text/plain": [
       "{0: 'AUD',\n",
       " 1: 'AZN',\n",
       " 2: 'GBP',\n",
       " 3: 'AMD',\n",
       " 4: 'BYN',\n",
       " 5: 'BGN',\n",
       " 6: 'BRL',\n",
       " 7: 'HUF',\n",
       " 8: 'HKD',\n",
       " 9: 'DKK',\n",
       " 10: 'USD',\n",
       " 11: 'EUR',\n",
       " 12: 'INR',\n",
       " 13: 'KZT',\n",
       " 14: 'CAD',\n",
       " 15: 'KGS',\n",
       " 16: 'CNY',\n",
       " 17: 'MDL',\n",
       " 18: 'NOK',\n",
       " 19: 'PLN',\n",
       " 20: 'RON',\n",
       " 21: 'XDR',\n",
       " 22: 'SGD',\n",
       " 23: 'TJS',\n",
       " 24: 'TRY',\n",
       " 25: 'TMT',\n",
       " 26: 'UZS',\n",
       " 27: 'UAH',\n",
       " 28: 'CZK',\n",
       " 29: 'SEK',\n",
       " 30: 'CHF',\n",
       " 31: 'ZAR',\n",
       " 32: 'KRW',\n",
       " 33: 'JPY'}"
      ]
     },
     "execution_count": 39,
     "metadata": {},
     "output_type": "execute_result"
    }
   ],
   "source": [
    "import requests\n",
    "site = 'https://www.cbr-xml-daily.ru/daily_json.js'\n",
    "\n",
    "# def get_valute_dict1():\n",
    "#     valute_dict = {}\n",
    "#     r1 = requests.get('https://www.cbr-xml-daily.ru/daily_json.js')\n",
    "#     for num, element in enumerate(r1.json()['Valute']):\n",
    "#         valute_dict[num] = element\n",
    "#     return valute_dict\n",
    "\n",
    "\n",
    "class Currinator:\n",
    "    def exchange_rates(self):\n",
    "        r = requests.get(site)\n",
    "        return r.json()['Valute']\n",
    "    \n",
    "    def get_valute_dict(self):\n",
    "        valute_dict = {}\n",
    "        for num, element in enumerate(self.exchange_rates()):\n",
    "            valute_dict[num] = element\n",
    "        return valute_dict\n",
    "\n",
    "c = Currinator()\n",
    "c.get_valute_dict()\n",
    "\n"
   ]
  },
  {
   "cell_type": "code",
   "execution_count": null,
   "id": "fea611cb",
   "metadata": {},
   "outputs": [],
   "source": []
  },
  {
   "cell_type": "code",
   "execution_count": null,
   "id": "3372f2f5",
   "metadata": {},
   "outputs": [],
   "source": []
  },
  {
   "cell_type": "code",
   "execution_count": null,
   "id": "077f6f17",
   "metadata": {},
   "outputs": [],
   "source": []
  },
  {
   "cell_type": "code",
   "execution_count": null,
   "id": "3bb2be97",
   "metadata": {},
   "outputs": [],
   "source": []
  }
 ],
 "metadata": {
  "kernelspec": {
   "display_name": "Python 3",
   "language": "python",
   "name": "python3"
  },
  "language_info": {
   "codemirror_mode": {
    "name": "ipython",
    "version": 3
   },
   "file_extension": ".py",
   "mimetype": "text/x-python",
   "name": "python",
   "nbconvert_exporter": "python",
   "pygments_lexer": "ipython3",
   "version": "3.8.0"
  }
 },
 "nbformat": 4,
 "nbformat_minor": 5
}
