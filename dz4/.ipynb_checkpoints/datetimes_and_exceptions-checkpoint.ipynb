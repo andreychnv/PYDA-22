{
 "cells": [
  {
   "cell_type": "markdown",
   "id": "05b37de9",
   "metadata": {},
   "source": [
    "### Задание 1\n",
    "Печатные газеты использовали свой формат дат для каждого выпуска. Для каждой газеты из списка напишите формат указанной даты для перевода в объект datetime:\n",
    "The Moscow Times - Wednesday, October 2, 2002\n",
    "The Guardian - Friday, 11.10.13\n",
    "Daily News - Thursday, 18 August 1977"
   ]
  },
  {
   "cell_type": "code",
   "execution_count": 1,
   "id": "82c50f37",
   "metadata": {},
   "outputs": [
    {
     "name": "stdout",
     "output_type": "stream",
     "text": [
      "The Moscow Times - 2002-10-02 00:00:00\n",
      "The Guardian - 2013-10-11 00:00:00\n",
      "Daily News - 1977-08-18 00:00:00\n"
     ]
    }
   ],
   "source": [
    "from datetime import datetime as dt\n",
    "\n",
    "print(f\"The Moscow Times - {dt.strptime('Wednesday, October 2, 2002', '%A, %B %d, %Y')}\")\n",
    "print(f\"The Guardian - {dt.strptime('Friday, 11.10.13', '%A, %d.%m.%y')}\")\n",
    "print(f\"Daily News - {dt.strptime('Thursday, 18 August 1977', '%A, %d %B %Y')}\")"
   ]
  },
  {
   "cell_type": "markdown",
   "id": "69f27b1c",
   "metadata": {},
   "source": [
    "### Задание 2\n",
    "Дан поток дат в формате YYYY-MM-DD, в которых встречаются некорректные значения:\n",
    "stream = [‘2018-04-02’, ‘2018-02-29’, ‘2018-19-02’]\n",
    "\n",
    "Напишите функцию, которая проверяет эти даты на корректность. Т. е. для каждой даты возвращает True (дата корректна) или False (некорректная дата)."
   ]
  },
  {
   "cell_type": "code",
   "execution_count": 2,
   "id": "e2a21750",
   "metadata": {},
   "outputs": [
    {
     "name": "stdout",
     "output_type": "stream",
     "text": [
      "[['2018-04-02', True], ['2018-02-29', False], ['2018-19-02', False]]\n"
     ]
    }
   ],
   "source": [
    "from datetime import datetime as dt\n",
    "\n",
    "stream = ['2018-04-02', '2018-02-29', '2018-19-02']\n",
    "def check_date(dates):\n",
    "    result = []\n",
    "    for date_ in dates:\n",
    "        try:\n",
    "            dt.strptime(date_, '%Y-%m-%d')\n",
    "            result.append([date_, True])\n",
    "        except:\n",
    "            result.append([date_, False])\n",
    "    return result\n",
    "\n",
    "print(check_date(stream))"
   ]
  },
  {
   "cell_type": "markdown",
   "id": "ed3d13d5",
   "metadata": {},
   "source": [
    "### Задание 3\n",
    "Напишите функцию date_range, которая возвращает список дат за период от start_date до end_date. Даты должны вводиться в формате YYYY-MM-DD. В случае неверного формата или при start_date > end_date должен возвращаться пустой список."
   ]
  },
  {
   "cell_type": "code",
   "execution_count": 3,
   "id": "b4cf1a59",
   "metadata": {},
   "outputs": [
    {
     "name": "stdout",
     "output_type": "stream",
     "text": [
      "Введите начальную дату в формате ГГГГ-ММ-ДД:2021-02-26\n",
      "Введите конечную дату в формате ГГГГ-ММ-ДД:2021-03-03\n",
      "['2021-02-26', '2021-02-27', '2021-02-28', '2021-03-01', '2021-03-02', '2021-03-03']\n"
     ]
    }
   ],
   "source": [
    "import datetime\n",
    "from datetime import datetime as dt\n",
    "\n",
    "def date_range():\n",
    "    start_date = input('Введите начальную дату в формате ГГГГ-ММ-ДД:')\n",
    "    end_date = input('Введите конечную дату в формате ГГГГ-ММ-ДД:')\n",
    "    result = []\n",
    "    try:\n",
    "        start_date = dt.strptime(start_date, '%Y-%m-%d')\n",
    "        end_date = dt.strptime(end_date, '%Y-%m-%d')\n",
    "    except:\n",
    "        return result\n",
    "    cur_date = start_date\n",
    "    while cur_date <= end_date:\n",
    "        result.append(dt.strftime(cur_date, '%Y-%m-%d'))\n",
    "        cur_date += datetime.timedelta(days=1)\n",
    "    return result\n",
    "\n",
    "print(date_range())"
   ]
  },
  {
   "cell_type": "markdown",
   "id": "98d76115",
   "metadata": {},
   "source": [
    "### Задание 4 (бонусное)\n",
    "Ваш коллега прислал код функции:\n",
    "\n",
    "DEFAULT_USER_COUNT = 3\n",
    "\n",
    "def delete_and_return_last_user(region, default_list=[‘A100’, ‘A101’, ‘A102’]):\n",
    "    \"\"\"\n",
    "    Удаляет из списка default_list последнего пользователя\n",
    "    и возвращает ID нового последнего пользователя.\n",
    "    \"\"\"\n",
    "    element_to_delete = default_list[-1]\n",
    "    default_list.remove(element_to_delete)\n",
    "    return default_list[DEFAULT_USER_COUNT-2]\n",
    "\n",
    "При однократном вызове этой функции все работает корректно:\n",
    "\n",
    "delete_and_return_last_user(1)\n",
    "\"A101\"\n",
    "\n",
    "Однако, при повторном вызове получается ошибка IndexError: list index out of range.\n",
    "\n",
    "Задание:\n",
    "Что значит ошибка list index out of range?\n",
    "Почему при первом запуске функция работает корректно, а при втором - нет?\n",
    "\n",
    "\n",
    "Ошибка list index out of range указывает на то, что произошла попытка обращения к несуществующему элементу списка, индекс которого находится за пределами размера списка.\n",
    "Фактически функция возвращает не id нового последнего пользователя, а id пользователя с порядковым номером 2 (или индексом 1)\n",
    "Индекс последнего элемента после первого выполнения функции становится равен 1 и совпадает с возвращаемым значением функции, поэтому выполнение проходит успешно. При следующем запуске удаляется элемент с индексом 1, последний и он же максимальный индекс = 0. Затем происходит обращение к элементу списка с индексом 1 (DEFAULT_USER_COUNT-2), которого не существует, это приводит к ошибке list index out of range.\n"
   ]
  },
  {
   "cell_type": "code",
   "execution_count": 4,
   "id": "eccee6b2",
   "metadata": {},
   "outputs": [],
   "source": [
    "def delete_and_return_last_user(region, default_list=['A100', 'A101', 'A102']):\n",
    "    \"\"\"\n",
    "    Удаляет из списка default_list последнего пользователя\n",
    "    и возвращает ID нового последнего пользователя.\n",
    "    \"\"\"\n",
    "    try:\n",
    "        element_to_delete = default_list[-1]\n",
    "        default_list.remove(element_to_delete)\n",
    "        return default_list[len(default_list)-1]\n",
    "    except:\n",
    "        return ''\n",
    "    "
   ]
  },
  {
   "cell_type": "code",
   "execution_count": 5,
   "id": "60698f3c",
   "metadata": {},
   "outputs": [
    {
     "data": {
      "text/plain": [
       "'A101'"
      ]
     },
     "execution_count": 5,
     "metadata": {},
     "output_type": "execute_result"
    }
   ],
   "source": [
    "delete_and_return_last_user(1)"
   ]
  }
 ],
 "metadata": {
  "kernelspec": {
   "display_name": "Python 3",
   "language": "python",
   "name": "python3"
  },
  "language_info": {
   "codemirror_mode": {
    "name": "ipython",
    "version": 3
   },
   "file_extension": ".py",
   "mimetype": "text/x-python",
   "name": "python",
   "nbconvert_exporter": "python",
   "pygments_lexer": "ipython3",
   "version": "3.8.0"
  }
 },
 "nbformat": 4,
 "nbformat_minor": 5
}
