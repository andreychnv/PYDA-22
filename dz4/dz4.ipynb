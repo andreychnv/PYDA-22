{
 "cells": [
  {
   "cell_type": "code",
   "execution_count": 55,
   "id": "b903686f",
   "metadata": {},
   "outputs": [],
   "source": [
    "import json\n",
    "with open('purchase_log.txt', 'r', encoding='utf-8') as purchase_log_file:\n",
    "    key, value = json.loads(purchase_log_file.readline().strip()).values()\n",
    "    purchases = {}\n",
    "    for line in purchase_log_file:\n",
    "        item = json.loads(line.strip())\n",
    "        if item[key] in purchases:\n",
    "            if item[value] not in purchases[item[key]]:\n",
    "                purchases[item[key]].append(item[value])\n",
    "        else:\n",
    "            purchases[item[key]] = [item[value]]"
   ]
  },
  {
   "cell_type": "code",
   "execution_count": 56,
   "id": "ab5f5976",
   "metadata": {},
   "outputs": [],
   "source": [
    "value = 'category'\n",
    "with open('visit_log.csv', 'r', encoding='utf-8') as visit_log_file:\n",
    "    funnel_file = open('funnel.csv', 'w', encoding='utf-8')\n",
    "    visit = visit_log_file.readline().strip().split(',')\n",
    "    funnel_file.write(f'{visit[0]},{visit[1]},{value}\\n')\n",
    "    funnel_file.close()\n",
    "    with open('funnel.csv', 'a', encoding='utf-8') as funnel_file:\n",
    "        for line in visit_log_file:\n",
    "            visit = line.strip().split(',')\n",
    "            if visit[0] in purchases:\n",
    "                funnel_file.write(f'{visit[0]},{visit[1]},{\";\".join(purchases[visit[0]])}\\n')"
   ]
  }
 ],
 "metadata": {
  "kernelspec": {
   "display_name": "Python 3",
   "language": "python",
   "name": "python3"
  },
  "language_info": {
   "codemirror_mode": {
    "name": "ipython",
    "version": 3
   },
   "file_extension": ".py",
   "mimetype": "text/x-python",
   "name": "python",
   "nbconvert_exporter": "python",
   "pygments_lexer": "ipython3",
   "version": "3.8.0"
  }
 },
 "nbformat": 4,
 "nbformat_minor": 5
}
