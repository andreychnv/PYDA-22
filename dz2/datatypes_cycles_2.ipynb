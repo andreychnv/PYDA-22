{
 "cells": [
  {
   "cell_type": "markdown",
   "id": "20129e24",
   "metadata": {},
   "source": [
    "## **Домашнее задание к лекции “Введение в типы данных и циклы. Часть 2”"
   ]
  },
  {
   "cell_type": "markdown",
   "id": "b06bba79",
   "metadata": {},
   "source": [
    "### Задание 1\n",
    "Дана переменная, в которой хранится словарь, содержащий гео-метки для каждого пользователя (пример структуры данных приведен ниже). Вам необходимо написать программу, которая выведет на экран множество уникальных гео-меток всех пользователей.\n",
    "\n",
    "Пример работы программы:\n",
    "\n",
    "ids = {‘user1’: [213, 213, 213, 15, 213],\n",
    "‘user2’: [54, 54, 119, 119, 119],\n",
    "‘user3’: [213, 98, 98, 35]}\n",
    "Результат: {98, 35, 15, 213, 54, 119}"
   ]
  },
  {
   "cell_type": "code",
   "execution_count": 11,
   "id": "0ce4b599",
   "metadata": {},
   "outputs": [
    {
     "name": "stdout",
     "output_type": "stream",
     "text": [
      "{98, 35, 213, 54, 119, 15}\n"
     ]
    }
   ],
   "source": [
    "ids = {\n",
    "    \"user1\": [213, 213, 213, 15, 213],\n",
    "    \"user2\": [54, 54, 119, 119, 119],\n",
    "    \"user3\": [213, 98, 98, 35]\n",
    "}\n",
    "geolbls = set([])\n",
    "for value in ids.values():\n",
    "    geolbls = geolbls.union(set(value))\n",
    "print(geolbls)"
   ]
  },
  {
   "cell_type": "markdown",
   "id": "57d66ba3",
   "metadata": {},
   "source": [
    "### Задание 2\n",
    "Дана переменная, в которой хранится список поисковых запросов пользователя (пример структуры данных приведен ниже). Вам необходимо написать программу, которая выведет на экран распределение количества слов в запросах в требуемом виде.\n",
    "\n",
    "Пример работы программы:\n",
    "\n",
    "queries = [\n",
    "‘смотреть сериалы онлайн’,\n",
    "‘новости спорта’,\n",
    "‘афиша кино’,\n",
    "‘курс доллара’,\n",
    "‘сериалы этим летом’,\n",
    "‘курспо питону’,\n",
    "‘сериалыпро спорт’,\n",
    "]\n",
    "Результат:\n",
    "\n",
    "Поисковых запросов, содержащих 2 слов(а): 42.86%\n",
    "Поисковых запросов, содержащих 3 слов(а): 57.14%"
   ]
  },
  {
   "cell_type": "code",
   "execution_count": 36,
   "id": "64a44ac7",
   "metadata": {},
   "outputs": [
    {
     "name": "stdout",
     "output_type": "stream",
     "text": [
      "Поисковых запросов, содержащих 2 слов(а): 42.86%\n",
      "Поисковых запросов, содержащих 3 слов(а): 57.14%\n"
     ]
    }
   ],
   "source": [
    "queries = [\n",
    "\"смотреть сериалы онлайн\",\n",
    "\"новости спорта\",\n",
    "\"афиша кино\",\n",
    "\"курс доллара\",\n",
    "\"сериалы этим летом\",\n",
    "\"курс по питону\",\n",
    "\"сериалы про спорт\",\n",
    "]\n",
    "stats = {}\n",
    "for query in queries:\n",
    "    stats[len(query.split(\" \"))] = stats.get(len(query.split(\" \")),0) + 1\n",
    "summ = sum(stats.values())\n",
    "for key, value in sorted(stats.items()):\n",
    "    print(f\"Поисковых запросов, содержащих {key} слов(а): {value / summ :.2%}\")\n",
    "   "
   ]
  },
  {
   "cell_type": "markdown",
   "id": "81b137ea",
   "metadata": {},
   "source": [
    "### Задание 3\n",
    "Дана переменная, в которой хранится информация о затратах и доходе рекламных кампаний по различным источникам. Необходимо дополнить исходную структуру показателем ROI, который рассчитаем по формуле: (revenue / cost - 1) * 100\n",
    "\n",
    "Пример работы программы:\n",
    "\n",
    "results = {\n",
    "‘vk’: {‘revenue’: 103, ‘cost’: 98},\n",
    "‘yandex’: {‘revenue’: 179, ‘cost’: 153},\n",
    "‘facebook’: {‘revenue’: 103, ‘cost’: 110},\n",
    "‘adwords’: {‘revenue’: 35, ‘cost’: 34},\n",
    "‘twitter’: {‘revenue’: 11, ‘cost’: 24},\n",
    "}\n",
    "Результат:\n",
    "\n",
    "{‘adwords’: {‘ROI’: 2.94, ‘cost’: 34, ‘revenue’: 35},\n",
    "‘facebook’: {‘ROI’: -6.36, ‘cost’: 110, ‘revenue’: 103},\n",
    "‘twitter’: {‘ROI’: -54.17, ‘cost’: 24, ‘revenue’: 11},\n",
    "‘vk’: {‘ROI’: 5.1, ‘cost’: 98, ‘revenue’: 103},\n",
    "‘yandex’: {‘ROI’: 16.99, ‘cost’: 153, ‘revenue’: 179}}"
   ]
  },
  {
   "cell_type": "code",
   "execution_count": 44,
   "id": "5769bbe6",
   "metadata": {},
   "outputs": [
    {
     "name": "stdout",
     "output_type": "stream",
     "text": [
      "{'vk': {'revenue': 103, 'cost': 98, 'ROI': 5.1}, 'yandex': {'revenue': 179, 'cost': 153, 'ROI': 16.99}, 'facebook': {'revenue': 103, 'cost': 110, 'ROI': -6.36}, 'adwords': {'revenue': 35, 'cost': 34, 'ROI': 2.94}, 'twitter': {'revenue': 11, 'cost': 24, 'ROI': -54.17}}\n"
     ]
    }
   ],
   "source": [
    "results = {\n",
    "\"vk\": {\"revenue\": 103, \"cost\": 98},\n",
    "\"yandex\": {\"revenue\": 179, \"cost\": 153},\n",
    "\"facebook\": {\"revenue\": 103, \"cost\": 110},\n",
    "\"adwords\": {\"revenue\": 35, \"cost\": 34},\n",
    "\"twitter\": {\"revenue\": 11, \"cost\": 24},\n",
    "}\n",
    "\n",
    "for value in results.values():\n",
    "    value[\"ROI\"] = round((value[\"revenue\"] / value[\"cost\"] - 1) * 100, 2)\n",
    "print(results)    "
   ]
  },
  {
   "cell_type": "markdown",
   "id": "9ade1348",
   "metadata": {},
   "source": [
    "### Задание 4\n",
    "Дана переменная, в которой хранится статистика рекламных каналов по объемам продаж (пример структуры данных приведен ниже). Напишите программу, которая возвращает название канала с максимальным объемом продаж.\n",
    "\n",
    "Пример работы программы:\n",
    "\n",
    "stats = {‘facebook’: 55, ‘yandex’: 115, ‘vk’: 120, ‘google’: 99, ‘email’: 42, ‘ok’: 98}\n",
    "\n",
    "Результат: Максимальный объем продаж на рекламном канале: vk"
   ]
  },
  {
   "cell_type": "code",
   "execution_count": 53,
   "id": "78395b2e",
   "metadata": {},
   "outputs": [
    {
     "name": "stdout",
     "output_type": "stream",
     "text": [
      "Максимальный объем продаж на рекламном канале: vk\n"
     ]
    }
   ],
   "source": [
    "stats = {\"facebook\": 55, \"yandex\": 115, \"vk\": 120, \"google\": 99, \"email\": 42, \"ok\": 98}\n",
    "max_value = max(stats.values())\n",
    "max_channels = []\n",
    "for key, value in stats.items():\n",
    "    if value == max_value:\n",
    "        max_channels.append(key)\n",
    "print(f\"Максимальный объем продаж на рекламном канале: {', '.join(max_channels)}\")"
   ]
  },
  {
   "cell_type": "markdown",
   "id": "3d4d6377",
   "metadata": {},
   "source": [
    "### Задание 5 (необязательно)\n",
    "Дан список произвольной длины. Необходимо написать код, который на основе исходного списка составит словарь такого уровня вложенности, какова длина исхондого списка.\n",
    "\n",
    "Примеры работы программы:\n",
    "\n",
    "my_list = [‘2018-01-01’, ‘yandex’, ‘cpc’, 100]\n",
    "Результат: {‘2018-01-01’: {‘yandex’: {‘cpc’: 100}}}\n",
    "\n",
    "my_list = [‘a’, ‘b’, ‘c’, ‘d’, ‘e’, ‘f’]\n",
    "Результат: {‘a’: {‘b’: {‘c’: {‘d’: {‘e’: ‘f’}}}}}"
   ]
  },
  {
   "cell_type": "code",
   "execution_count": 110,
   "id": "e3cf8fa7",
   "metadata": {},
   "outputs": [
    {
     "name": "stdout",
     "output_type": "stream",
     "text": [
      "{'2018-01-01': {'yandex': {'cpc': 100}}}\n"
     ]
    }
   ],
   "source": [
    "#my_list = [\"a\", \"b\", \"c\", \"d\", \"e\", \"f\"]\n",
    "my_list = [\"2018-01-01\", \"yandex\", \"cpc\", 100]\n",
    "my_dict = my_list[-1]\n",
    "for i in range(len(my_list)-1, 0, -1):\n",
    "    my_dict = dict({my_list[i - 1]: my_dict})\n",
    "print(my_dict)    "
   ]
  },
  {
   "cell_type": "markdown",
   "id": "5013c66e",
   "metadata": {},
   "source": [
    "### Задание 6 (необязательно)\n",
    "Дана книга рецептов с информацией о том, сколько ингредиентов нужно для приготовления блюда в расчете на одну порцию (пример данных представлен ниже).\n",
    "Напишите программу, которая будет запрашивать у пользователя количество порций для приготовления этих блюд и отображать информацию о суммарном количестве требуемых ингредиентов в указанном виде.\n",
    "\n",
    "Пример работы программы:\n",
    "\n",
    "cook_book = {\n",
    "‘салат’: [\n",
    "{‘ingridient_name’: ‘сыр’, ‘quantity’: 50, ‘measure’: ‘гр’},\n",
    "{‘ingridient_name’: ‘томаты’, ‘quantity’: 2, ‘measure’: ‘шт’},\n",
    "{‘ingridient_name’: ‘огурцы’, ‘quantity’: 20, ‘measure’: ‘гр’},\n",
    "{‘ingridient_name’: ‘маслины’, ‘quantity’: 10, ‘measure’: ‘гр’},\n",
    "{‘ingridient_name’: ‘оливковое масло’, ‘quantity’: 20, ‘measure’: ‘мл’},\n",
    "{‘ingridient_name’: ‘салат’, ‘quantity’: 10, ‘measure’: ‘гр’},\n",
    "{‘ingridient_name’: ‘перец’, ‘quantity’: 20, ‘measure’: ‘гр’}\n",
    "],\n",
    "‘пицца’: [\n",
    "{‘ingridient_name’: ‘сыр’, ‘quantity’: 20, ‘measure’: ‘гр’},\n",
    "{‘ingridient_name’: ‘колбаса’, ‘quantity’: 30, ‘measure’: ‘гр’},\n",
    "{‘ingridient_name’: ‘бекон’, ‘quantity’: 30, ‘measure’: ‘гр’},\n",
    "{‘ingridient_name’: ‘оливки’, ‘quantity’: 10, ‘measure’: ‘гр’},\n",
    "{‘ingridient_name’: ‘томаты’, ‘quantity’: 20, ‘measure’: ‘гр’},\n",
    "{‘ingridient_name’: ‘тесто’, ‘quantity’: 100, ‘measure’: ‘гр’},\n",
    "],\n",
    "‘лимонад’: [\n",
    "{‘ingridient_name’: ‘лимон’, ‘quantity’: 1, ‘measure’: ‘шт’},\n",
    "{‘ingridient_name’: ‘вода’, ‘quantity’: 200, ‘measure’: ‘мл’},\n",
    "{‘ingridient_name’: ‘сахар’, ‘quantity’: 10, ‘measure’: ‘гр’},\n",
    "{‘ingridient_name’: ‘лайм’, ‘quantity’: 20, ‘measure’: ‘гр’},\n",
    "]\n",
    "}\n",
    "\n",
    "Введите количество порций:\n",
    "3\n",
    "Результат:\n",
    "\n",
    "Сыр: 210 гр\n",
    "Томаты: 6 шт\n",
    "Огурцы: 60 гр\n",
    "Маслины: 30 гр\n",
    "Оливковое Масло: 60 мл\n",
    "Салат: 30 гр\n",
    "Перец: 60 гр\n",
    "Колбаса: 90 гр\n",
    "Бекон: 90 гр\n",
    "Оливки: 30 гр\n",
    "Томаты: 60 гр\n",
    "Тесто: 300 гр\n",
    "Лимон: 3 шт\n",
    "Вода: 600 мл\n",
    "Сахар: 30 гр\n",
    "Лайм: 60 гр"
   ]
  },
  {
   "cell_type": "code",
   "execution_count": 123,
   "id": "8ee6513b",
   "metadata": {},
   "outputs": [
    {
     "name": "stdout",
     "output_type": "stream",
     "text": [
      "Введите количество порций:1\n",
      "Сыр: 50 гр\n",
      "Томаты: 2 шт\n",
      "Огурцы: 20 гр\n",
      "Маслины: 10 гр\n",
      "Оливковое масло: 20 мл\n",
      "Салат: 10 гр\n",
      "Перец: 20 гр\n",
      "Сыр: 20 гр\n",
      "Колбаса: 30 гр\n",
      "Бекон: 30 гр\n",
      "Оливки: 10 гр\n",
      "Томаты: 20 гр\n",
      "Тесто: 100 гр\n",
      "Лимон: 1 шт\n",
      "Вода: 200 мл\n",
      "Сахар: 10 гр\n",
      "Лайм: 20 гр\n"
     ]
    }
   ],
   "source": [
    "cook_book = {\n",
    "\"салат\": [\n",
    "{\"ingridient_name\": \"сыр\", \"quantity\": 50, \"measure\": \"гр\"},\n",
    "{\"ingridient_name\": \"томаты\", \"quantity\": 2, \"measure\": \"шт\"},\n",
    "{\"ingridient_name\": \"огурцы\", \"quantity\": 20, \"measure\": \"гр\"},\n",
    "{\"ingridient_name\": \"маслины\", \"quantity\": 10, \"measure\": \"гр\"},\n",
    "{\"ingridient_name\": \"оливковое масло\", \"quantity\": 20, \"measure\": \"мл\"},\n",
    "{\"ingridient_name\": \"салат\", \"quantity\": 10, \"measure\": \"гр\"},\n",
    "{\"ingridient_name\": \"перец\", \"quantity\": 20, \"measure\": \"гр\"}\n",
    "],\n",
    "\"пицца\": [\n",
    "{\"ingridient_name\": \"сыр\", \"quantity\": 20, \"measure\": \"гр\"},\n",
    "{\"ingridient_name\": \"колбаса\", \"quantity\": 30, \"measure\": \"гр\"},\n",
    "{\"ingridient_name\": \"бекон\", \"quantity\": 30, \"measure\": \"гр\"},\n",
    "{\"ingridient_name\": \"оливки\", \"quantity\": 10, \"measure\": \"гр\"},\n",
    "{\"ingridient_name\": \"томаты\", \"quantity\": 20, \"measure\": \"гр\"},\n",
    "{\"ingridient_name\": \"тесто\", \"quantity\": 100, \"measure\": \"гр\"},\n",
    "],\n",
    "\"лимонад\": [\n",
    "{\"ingridient_name\": \"лимон\", \"quantity\": 1, \"measure\": \"шт\"},\n",
    "{\"ingridient_name\": \"вода\", \"quantity\": 200, \"measure\": \"мл\"},\n",
    "{\"ingridient_name\": \"сахар\", \"quantity\": 10, \"measure\": \"гр\"},\n",
    "{\"ingridient_name\": \"лайм\", \"quantity\": 20, \"measure\": \"гр\"},\n",
    "]\n",
    "}\n",
    "portions = int(input(\"Введите количество порций:\"))\n",
    "\n",
    "for value in cook_book.values():\n",
    "    for item in value:\n",
    "        print(f\"{item['ingridient_name'].capitalize()}: {item['quantity'] * portions} {item['measure']}\")"
   ]
  },
  {
   "cell_type": "code",
   "execution_count": null,
   "id": "9f5c29ac",
   "metadata": {},
   "outputs": [],
   "source": []
  },
  {
   "cell_type": "code",
   "execution_count": null,
   "id": "067b87b7",
   "metadata": {},
   "outputs": [],
   "source": []
  }
 ],
 "metadata": {
  "kernelspec": {
   "display_name": "Python 3",
   "language": "python",
   "name": "python3"
  },
  "language_info": {
   "codemirror_mode": {
    "name": "ipython",
    "version": 3
   },
   "file_extension": ".py",
   "mimetype": "text/x-python",
   "name": "python",
   "nbconvert_exporter": "python",
   "pygments_lexer": "ipython3",
   "version": "3.9.5"
  }
 },
 "nbformat": 4,
 "nbformat_minor": 5
}
