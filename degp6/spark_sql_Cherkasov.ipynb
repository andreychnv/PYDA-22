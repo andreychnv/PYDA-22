{
 "cells": [
  {
   "cell_type": "code",
   "execution_count": 1,
   "id": "f7dfd91d",
   "metadata": {},
   "outputs": [],
   "source": [
    "from pyspark.sql import SparkSession\n",
    "from pyspark.sql import functions as F\n",
    "from pyspark.sql import Window\n",
    "spark = SparkSession.builder.appName('HomeWork').master('local').getOrCreate()\n",
    "df = spark.read.option('header', True).option('inferSchema', True).csv('c:\\degp6\\owid-covid-data.csv')"
   ]
  },
  {
   "cell_type": "code",
   "execution_count": 2,
   "id": "6b2addf0",
   "metadata": {},
   "outputs": [
    {
     "name": "stdout",
     "output_type": "stream",
     "text": [
      "+--------+-------------+------------------+\n",
      "|iso_code|     location|     cases_percent|\n",
      "+--------+-------------+------------------+\n",
      "|     AND|      Andorra|15.543907331909661|\n",
      "|     MNE|   Montenegro|14.523725364693293|\n",
      "|     CZE|      Czechia|14.308848404077997|\n",
      "|     SMR|   San Marino|13.937179562732041|\n",
      "|     SVN|     Slovenia|10.370805779121204|\n",
      "|     LUX|   Luxembourg| 9.847342390123583|\n",
      "|     ISR|       Israel| 9.625106044786802|\n",
      "|     USA|United States| 9.203010995860707|\n",
      "|     SRB|       Serbia| 8.826328557933492|\n",
      "|     BHR|      Bahrain| 8.488860079114566|\n",
      "|     PAN|       Panama| 8.228739065460761|\n",
      "|     PRT|     Portugal| 8.058699735120369|\n",
      "|     EST|      Estonia| 8.022681579659551|\n",
      "|     SWE|       Sweden| 7.969744347858805|\n",
      "|     LTU|    Lithuania| 7.938864728274825|\n",
      "+--------+-------------+------------------+\n",
      "only showing top 15 rows\n",
      "\n"
     ]
    }
   ],
   "source": [
    "df1 = df.select('iso_code', 'location', F.col('total_cases') / F.col('population') * 100 ) \\\n",
    "        .where(F.col('date')=='2021-03-31')                                                \\\n",
    "        .where(F.col('iso_code').contains('OWID_')==False)                                 \\\n",
    "        .withColumnRenamed('((total_cases / population) * 100)', 'cases_percent')          \\\n",
    "        .orderBy(F.col('cases_percent').desc())\n",
    "df1.show(15)"
   ]
  },
  {
   "cell_type": "code",
   "execution_count": 3,
   "id": "fd7e4abb",
   "metadata": {},
   "outputs": [
    {
     "name": "stdout",
     "output_type": "stream",
     "text": [
      "+----------+--------+-------------+---------+\n",
      "|      date|iso_code|     location|new_cases|\n",
      "+----------+--------+-------------+---------+\n",
      "|2021-03-25|     BRA|       Brazil| 100158.0|\n",
      "|2021-03-26|     USA|United States|  77321.0|\n",
      "|2021-03-31|     IND|        India|  72330.0|\n",
      "|2021-03-31|     FRA|       France|  59054.0|\n",
      "|2021-03-31|     TUR|       Turkey|  39302.0|\n",
      "|2021-03-26|     POL|       Poland|  35145.0|\n",
      "|2021-03-31|     DEU|      Germany|  25014.0|\n",
      "|2021-03-26|     ITA|        Italy|  24076.0|\n",
      "|2021-03-25|     PER|         Peru|  19206.0|\n",
      "|2021-03-26|     UKR|      Ukraine|  18226.0|\n",
      "+----------+--------+-------------+---------+\n",
      "only showing top 10 rows\n",
      "\n"
     ]
    }
   ],
   "source": [
    "df2 = df.select('date', 'iso_code', 'location', 'new_cases')                                                      \\\n",
    "        .where(F.col('date').between('2021-03-25', '2021-03-31'))                                                 \\\n",
    "        .where(F.col('iso_code').contains('OWID_')==False)                                                        \\\n",
    "        .withColumn('rn', F.row_number().over(Window.partitionBy('location').orderBy(F.col('new_cases').desc()))) \\\n",
    "        .where(F.col('rn') == 1)                                                                                  \\\n",
    "        .orderBy(F.col('new_cases').desc())                                                                       \\\n",
    "        .select('date', 'iso_code', 'location', 'new_cases')\n",
    "df2.show(10)"
   ]
  },
  {
   "cell_type": "code",
   "execution_count": 4,
   "id": "7418ad69",
   "metadata": {},
   "outputs": [
    {
     "name": "stdout",
     "output_type": "stream",
     "text": [
      "+----------+--------------+---------+----------------------------+\n",
      "|      date|new_cases_ystd|new_cases|(new_cases - new_cases_ystd)|\n",
      "+----------+--------------+---------+----------------------------+\n",
      "|2021-03-25|        8769.0|   9128.0|                       359.0|\n",
      "|2021-03-26|        9128.0|   9073.0|                       -55.0|\n",
      "|2021-03-27|        9073.0|   8783.0|                      -290.0|\n",
      "|2021-03-28|        8783.0|   8979.0|                       196.0|\n",
      "|2021-03-29|        8979.0|   8589.0|                      -390.0|\n",
      "|2021-03-30|        8589.0|   8162.0|                      -427.0|\n",
      "|2021-03-31|        8162.0|   8156.0|                        -6.0|\n",
      "+----------+--------------+---------+----------------------------+\n",
      "\n"
     ]
    }
   ],
   "source": [
    "df3 = df.select('date', 'iso_code', 'location', 'new_cases')                                         \\\n",
    "        .where(F.col('location')=='Russia')                                                          \\\n",
    "        .where(F.col('date').between('2021-03-24', '2021-03-31'))                                    \\\n",
    "        .withColumn('new_cases_ystd', F.lag('new_cases').over(Window.orderBy(F.col('date'))))        \\\n",
    "        .select('date', 'new_cases_ystd', 'new_cases', F.col('new_cases') - F.col('new_cases_ystd')) \\\n",
    "        .where(F.col('date').between('2021-03-25', '2021-03-31'))\n",
    "df3.show()"
   ]
  },
  {
   "cell_type": "code",
   "execution_count": null,
   "id": "29e0f274",
   "metadata": {},
   "outputs": [],
   "source": []
  }
 ],
 "metadata": {
  "kernelspec": {
   "display_name": "Python 3",
   "language": "python",
   "name": "python3"
  },
  "language_info": {
   "codemirror_mode": {
    "name": "ipython",
    "version": 3
   },
   "file_extension": ".py",
   "mimetype": "text/x-python",
   "name": "python",
   "nbconvert_exporter": "python",
   "pygments_lexer": "ipython3",
   "version": "3.9.5"
  }
 },
 "nbformat": 4,
 "nbformat_minor": 5
}
